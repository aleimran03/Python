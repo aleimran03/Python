{
  "nbformat": 4,
  "nbformat_minor": 0,
  "metadata": {
    "colab": {
      "provenance": [],
      "authorship_tag": "ABX9TyPNUhQhiuZR1r4Vtopv/7CO",
      "include_colab_link": true
    },
    "kernelspec": {
      "name": "python3",
      "display_name": "Python 3"
    },
    "language_info": {
      "name": "python"
    }
  },
  "cells": [
    {
      "cell_type": "markdown",
      "metadata": {
        "id": "view-in-github",
        "colab_type": "text"
      },
      "source": [
        "<a href=\"https://colab.research.google.com/github/muhammedimrans/Python/blob/main/random_programs.ipynb\" target=\"_parent\"><img src=\"https://colab.research.google.com/assets/colab-badge.svg\" alt=\"Open In Colab\"/></a>"
      ]
    },
    {
      "cell_type": "code",
      "execution_count": 15,
      "metadata": {
        "colab": {
          "base_uri": "https://localhost:8080/"
        },
        "id": "DVrXkA7GmPlC",
        "outputId": "d7d8de39-0853-4390-c5b5-12baa2d8b9aa"
      },
      "outputs": [
        {
          "output_type": "stream",
          "name": "stdout",
          "text": [
            "Guess a number between 1 and 10:5\n",
            "\n",
            "You guessed the wrong number. The number was 6\n"
          ]
        }
      ],
      "source": [
        "import random\n",
        "low = 1\n",
        "high = 100\n",
        "\n",
        "#number = random.randint(low, high)\n",
        "number = random.randint(1, 10)\n",
        "\n",
        "while True:\n",
        "  num = int(input(\"Guess a number between 1 and 10:\"))\n",
        "  if num > 10:\n",
        "    continue\n",
        "  else:\n",
        "    break\n",
        "print()\n",
        "if num == number:\n",
        "    print(\"Congratulations! You guessed the correct number\")\n",
        "else:\n",
        "    print(\"You guessed the wrong number. The number was\", number)\n"
      ]
    },
    {
      "cell_type": "code",
      "source": [
        "\n",
        "\n",
        "'''\n",
        "options = (\"rock\", \"paper\", \"scissor\")\n",
        "\n",
        "cards = [\"2\", \"3\", \"4\", \"5\", \"6\", \"7\", \"8\", \"9\", \"10\", \"J\", \"K\", \"Q\", \"A\"]\n",
        "\n",
        "#number = random.randint(low, high) # random integer from low to high\n",
        "#number = random.random() # it will give us any float value\n",
        "#option = random.choice(options) # it will give us any single choice from options (its good for games)\n",
        "\n",
        "random.shuffle(cards) # this will shuffle the cards\n",
        "\n",
        "'''\n",
        "import random\n",
        "\n",
        "low = 1\n",
        "high = 100\n",
        "answer = random.randint(low, high)\n",
        "guesses = 0\n",
        "is_running = True\n",
        "\n",
        "\n",
        "print(\"Python Number Guessing Game\")\n",
        "print(f\"Select a number between {low} and {high}\")\n",
        "\n",
        "while is_running:\n",
        "  guess = input(\"Enter your guess: \")\n",
        "\n",
        "  if guess.isdigit():\n",
        "    guess = int(guess)\n",
        "    guesses += 1\n",
        "    if guess < low or guess > high:\n",
        "      print(\"That number is out of range\")\n",
        "      print(f\"Select a number between {low} and {high}\")\n",
        "    elif guess < answer:\n",
        "      print(\"Too Low! Try again!\")\n",
        "    elif guess > answer:\n",
        "      print(\"Too High! Try again!\")\n",
        "    else:\n",
        "      print(f\"CORRECT! The answer was {answer}\")\n",
        "      print(f\"Number of Guesses : {guesses}\")\n",
        "      is_running = False\n",
        "  else:\n",
        "    print(\"Invalid guess\")\n",
        "    print(f\"Please select a number between {low} and {high}\")\n",
        "\n",
        "\n"
      ],
      "metadata": {
        "colab": {
          "base_uri": "https://localhost:8080/"
        },
        "collapsed": true,
        "id": "4MR-V71ywSPq",
        "outputId": "89e02b57-9c9a-46ef-eb84-2800c2d637a2"
      },
      "execution_count": 9,
      "outputs": [
        {
          "output_type": "stream",
          "name": "stdout",
          "text": [
            "Python Number Guessing Game\n",
            "Select a number between 1 and 100\n",
            "Enter your guess: 25\n",
            "Too Low! Try again!\n",
            "Enter your guess: 27\n",
            "Too Low! Try again!\n",
            "Enter your guess: 50\n",
            "Too High! Try again!\n",
            "Enter your guess: 40\n",
            "Too High! Try again!\n",
            "Enter your guess: 30\n",
            "Too Low! Try again!\n",
            "Enter your guess: 35\n",
            "Too High! Try again!\n",
            "Enter your guess: 33\n",
            "Too High! Try again!\n",
            "Enter your guess: 32\n",
            "Too High! Try again!\n",
            "Enter your guess: 31\n",
            "CORRECT! The answer was 31\n",
            "Number of Guesses : 9\n"
          ]
        }
      ]
    },
    {
      "cell_type": "code",
      "source": [
        "import random\n",
        "\n",
        "options = (\"rock\", \"paper\", \"scissor\")\n",
        "player = None\n",
        "computer = random.choice(options)\n",
        "\n",
        "while player not in options:\n",
        "  player = input(\"Enter a choice (rock, paper, scissor):\")\n",
        "\n",
        "print(f\"Player: {player}\")\n",
        "print(f\"Computer: {computer}\")\n",
        "\n",
        "if player == computer:\n",
        "  print(\"It's a tie!\")\n",
        "elif player == \"rock\" and computer == \"scissor\":\n",
        "  print(\"Player wins!\")\n",
        "elif player == \"paper\" and computer == \"rock\":\n",
        "  print(\"Player wins!\")\n",
        "elif player == \"scissor\" and computer == \"paper\":\n",
        "  print(\"Player wins!\")\n",
        "else:\n",
        "  print(\"Computer wins!\")\n"
      ],
      "metadata": {
        "colab": {
          "base_uri": "https://localhost:8080/"
        },
        "id": "lG1OZuIXiCCe",
        "outputId": "89347b44-a64c-4870-9636-8984b2c3a490"
      },
      "execution_count": 13,
      "outputs": [
        {
          "output_type": "stream",
          "name": "stdout",
          "text": [
            "Enter a choice (rock, paper, scissor):paper\n",
            "Player: paper\n",
            "Computer: rock\n",
            "Player wins!\n"
          ]
        }
      ]
    },
    {
      "cell_type": "code",
      "source": [
        "import random\n",
        "#print(\"\\u25CF \\u250C \\u2500 \\u2510 \\u2502 \\u2514 \\u2518\")\n",
        "\n",
        "dice_art = {\n",
        "    1: (\n",
        "        \"┌─────────┐\",\n",
        "        \"│         │\",\n",
        "        \"│    ●    │\",\n",
        "        \"│         │\",\n",
        "        \"└─────────┘\",\n",
        "    ),\n",
        "    2: (\n",
        "        \"┌─────────┐\",\n",
        "        \"│  ●      │\",\n",
        "        \"│         │\",\n",
        "        \"│      ●  │\",\n",
        "        \"└─────────┘\",\n",
        "    ),\n",
        "    3: (\n",
        "        \"┌─────────┐\",\n",
        "        \"│  ●      │\",\n",
        "        \"│    ●    │\",\n",
        "        \"│      ●  │\",\n",
        "        \"└─────────┘\",\n",
        "    ),\n",
        "    4: (\n",
        "        \"┌─────────┐\",\n",
        "        \"│  ●   ●  │\",\n",
        "        \"│         │\",\n",
        "        \"│  ●   ●  │\",\n",
        "        \"└─────────┘\",\n",
        "    ),\n",
        "    5: (\n",
        "        \"┌─────────┐\",\n",
        "        \"│  ●   ●  │\",\n",
        "        \"│    ●    │\",\n",
        "        \"│  ●   ●  │\",\n",
        "        \"└─────────┘\",\n",
        "    ),\n",
        "    6: (\n",
        "        \"┌─────────┐\",\n",
        "        \"│  ●   ●  │\",\n",
        "        \"│  ●   ●  │\",\n",
        "        \"│  ●   ●  │\",\n",
        "        \"└─────────┘\",\n",
        "    ),\n",
        "}\n",
        "\n",
        "dice = []\n",
        "total = 0\n",
        "num_of_dice = int(input(\"How many dice? \"))\n",
        "\n",
        "for die in range(num_of_dice):\n",
        "  dice.append(random.randint(1, 6))\n",
        "\n",
        "#for die in range(num_of_dice):\n",
        "#  for line in dice_art.get(dice[die]):\n",
        "#    print(line)\n",
        "\n",
        "for line in range(5):\n",
        "  for die in dice:\n",
        "    print(dice_art.get(die)[line], end=\"\")\n",
        "  print()\n",
        "\n",
        "\n",
        "for die in dice:\n",
        "  total += die\n",
        "print(f\"Total: {total}\")"
      ],
      "metadata": {
        "colab": {
          "base_uri": "https://localhost:8080/"
        },
        "id": "Gu_idFAGlYHv",
        "outputId": "5fe41379-fc0f-498b-f27d-350ce197e2ba"
      },
      "execution_count": 33,
      "outputs": [
        {
          "output_type": "stream",
          "name": "stdout",
          "text": [
            "How many dice? 5\n",
            "┌─────────┐┌─────────┐┌─────────┐┌─────────┐┌─────────┐\n",
            "│  ●   ●  ││  ●   ●  ││         ││         ││  ●      │\n",
            "│    ●    ││    ●    ││    ●    ││    ●    ││         │\n",
            "│  ●   ●  ││  ●   ●  ││         ││         ││      ●  │\n",
            "└─────────┘└─────────┘└─────────┘└─────────┘└─────────┘\n",
            "Total: 14\n"
          ]
        }
      ]
    }
  ]
}