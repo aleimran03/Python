{
  "nbformat": 4,
  "nbformat_minor": 0,
  "metadata": {
    "colab": {
      "provenance": [],
      "authorship_tag": "ABX9TyPPaq7t56keUelmj8Xz/Hyb",
      "include_colab_link": true
    },
    "kernelspec": {
      "name": "python3",
      "display_name": "Python 3"
    },
    "language_info": {
      "name": "python"
    }
  },
  "cells": [
    {
      "cell_type": "markdown",
      "metadata": {
        "id": "view-in-github",
        "colab_type": "text"
      },
      "source": [
        "<a href=\"https://colab.research.google.com/github/muhammedimrans/Python/blob/main/Switch_statement.ipynb\" target=\"_parent\"><img src=\"https://colab.research.google.com/assets/colab-badge.svg\" alt=\"Open In Colab\"/></a>"
      ]
    },
    {
      "cell_type": "code",
      "execution_count": null,
      "metadata": {
        "colab": {
          "base_uri": "https://localhost:8080/"
        },
        "id": "P5NCEMKtsu7E",
        "outputId": "4d75e577-44b9-4af8-e588-0121100c9759"
      },
      "outputs": [
        {
          "output_type": "stream",
          "name": "stdout",
          "text": [
            "Invalid day\n"
          ]
        }
      ],
      "source": [
        "#Match-case statement (switch): An alternative to using many 'elif' statements\n",
        "#\t\t\t\tExecute some code if a value matches a 'case'\n",
        "#\t\t\t\tBenefits: cleaner and syntax is more readable\n",
        "\n",
        "# Just more convient way to use if else statemnet (Updated version of ifelse statement )\n",
        "\n",
        "\n",
        "def day_of_the_week(day):\n",
        "  match day:\n",
        "    case 0:\n",
        "      return \"Its a Sunday\"\n",
        "    case 1:\n",
        "      return \"Its a Monday\"\n",
        "    case 3:\n",
        "      return \"Its a Wednesday\"\n",
        "    case 4:\n",
        "      return \"Its a Thursday\"\n",
        "    case 5:\n",
        "      return \"Its a Friday\"\n",
        "    case 6:\n",
        "      return \"Its a saturday\"\n",
        "    case _:\n",
        "      return \"Invalid day\"\n",
        "print(day_of_the_week(2))"
      ]
    },
    {
      "cell_type": "code",
      "source": [
        "#We can use and or boolean operator in match statements\n",
        "\n",
        "def is_weekend(day):\n",
        "  match day:\n",
        "    case \"Monday\" | \"Tuesday\" | \"Wednesday\" | \"Thursday\" | \"Friday\":\n",
        "      return False\n",
        "    case \"Saturday\" | \"Sunday\":\n",
        "      return True\n",
        "    case _:\n",
        "      return \"Invalid day\"\n",
        "print(is_weekend(\"Saturday\"))"
      ],
      "metadata": {
        "colab": {
          "base_uri": "https://localhost:8080/"
        },
        "id": "fmUufXWVvdfP",
        "outputId": "130167c0-598c-440f-ddd3-56c62d704bc9"
      },
      "execution_count": null,
      "outputs": [
        {
          "output_type": "stream",
          "name": "stdout",
          "text": [
            "False\n"
          ]
        }
      ]
    },
    {
      "cell_type": "code",
      "source": [
        "#Module = a file containing code you want to include in your programs\n",
        "#\t\tuse 'import' to include a module (built-in or your own)\n",
        "#\t\tuseful to break up a large program reusable separate files\n",
        "\n",
        "#print(help(\"modules\")) # We can see all the modules names\n",
        "#print(help(\"math\")) #The Best way to get the details of the module\n",
        "\n",
        "# We can create our own module by defining it in other python file and using the file name to import like if we have programs1 then import programs1\n",
        "\n",
        "#import math # here we are just importing math module\n",
        "\n",
        "#import math as m # here we are assingning m as a math module we use it if the module name is bigger\n",
        "#print(m.pi)  #here its showing pi value\n",
        "\n",
        "#from math import pi  #here we are importing pi from math module\n",
        "#print(pi)\n",
        "\n",
        "#from script2 import * #script2 is a filename which is present in same location and * represent to import everything\n",
        "\n",
        "from math import e #We can use like this alse using only exponentioal value but in program it may effect if we want to\n",
        "\n",
        "a, b, c, d  = 1, 2, 4, 5\n",
        "print(e)\n",
        "print(e ** a)\n",
        "print(e ** b)\n",
        "print(e ** c)\n",
        "print(e ** d)\n",
        "print(e ** e)"
      ],
      "metadata": {
        "colab": {
          "base_uri": "https://localhost:8080/"
        },
        "id": "4n9DRM0Ywse5",
        "outputId": "26e58d7e-75e9-4f2a-d391-a4f2e156b10f"
      },
      "execution_count": null,
      "outputs": [
        {
          "output_type": "stream",
          "name": "stdout",
          "text": [
            "2.718281828459045\n",
            "2.718281828459045\n",
            "7.3890560989306495\n",
            "54.59815003314423\n",
            "148.41315910257657\n",
            "15.154262241479259\n"
          ]
        }
      ]
    },
    {
      "cell_type": "code",
      "source": [
        "#Variable Scope = where a variable is visible and accessible\n",
        "#scope resolution = (LEGB) Local-->Enclosed-->Global-->built-in\n",
        "#first we will look for local and then  enclosed one than global and later builtin\n",
        "\n",
        "#Local -> inside the function that we cant use outside the function\n",
        "#Enclosed -> function inside function and there we have mentioned x variable that is enclosed\n",
        "#Global -> where all the program can use the variable means defining at start\n",
        "#Built-in\n",
        "\n",
        "from math import pi #pi is builtin variable\n",
        "\n",
        "def fun1():\n",
        "\tx = 1  #Local variable\n",
        "\tprint(x)\n",
        "\n",
        "\tdef fun2():\n",
        "\t\tx = 2 #Enclosed variable\n",
        "\t\tprint(x)\n",
        "    print(fun2())\n",
        "\n",
        "print(fun1())\n",
        "x = 3 #Global Variable"
      ],
      "metadata": {
        "colab": {
          "base_uri": "https://localhost:8080/",
          "height": 106
        },
        "id": "KB1AgbmO_t3g",
        "outputId": "7fa134c2-40fa-4e75-c7ab-ddde10bfd515"
      },
      "execution_count": null,
      "outputs": [
        {
          "output_type": "error",
          "ename": "IndentationError",
          "evalue": "unindent does not match any outer indentation level (<tokenize>, line 19)",
          "traceback": [
            "\u001b[0;36m  File \u001b[0;32m\"<tokenize>\"\u001b[0;36m, line \u001b[0;32m19\u001b[0m\n\u001b[0;31m    print(fun2())\u001b[0m\n\u001b[0m    ^\u001b[0m\n\u001b[0;31mIndentationError\u001b[0m\u001b[0;31m:\u001b[0m unindent does not match any outer indentation level\n"
          ]
        }
      ]
    },
    {
      "cell_type": "code",
      "source": [
        "'''\n",
        "if__name__ = __main__: (this script can be imported or run standalone)\n",
        "\t\t\tFunctions and classes in this module can be reused in another program\n",
        "\t\t\twithout the main block of code executing\n",
        "'''\n",
        "#ex. library = Import library for functionality\n",
        "#\t\twhen running library directly, display a help page\n",
        "\n",
        "#Good Practice (code is modular, helps readability, avoid unintended execution)\n",
        "\n",
        "#Script1.py (filename)\n",
        "\n",
        "def do_something():\n",
        "\tprint(\"Running a million steps\")\n",
        "\n",
        "if (__name__ ==\"__main__\");  # if we are using this if statement then we are only running the do_something function\n",
        "\n",
        "print(\"we are coder\")\n",
        "\n",
        "do_something()\n",
        "\n",
        "\n",
        "#script2.py (filename another file)\n",
        "\n",
        "#we can import the script 1 and run the code in script 2\n",
        "'''\n",
        "from script1 import *  #we are importing everything from script1 and printing everything\n",
        "\n",
        "If we are running from the main program in out it shows as main if w ehave given print(__name__)\n",
        "If we are calling from different program it will show as the file name\n",
        "by using if (__name__ ==\"__main__\") we are only using this to run a specific code like function if we ar eimporting into another program\n",
        "'''\n",
        "\n",
        "\n"
      ],
      "metadata": {
        "id": "dCkM_5uBN6Cq"
      },
      "execution_count": null,
      "outputs": []
    },
    {
      "cell_type": "code",
      "source": [
        "#Python Banking System\n",
        "\n",
        "def show_balance():\n",
        "    \"\"\"Displays the current account balance.\n",
        "\n",
        "    Returns:\n",
        "        float: The current account balance.\n",
        "    \"\"\"\n",
        "    print(f\"Your balance is ${balance:.2f}\")\n",
        "    return balance\n",
        "\n",
        "def deposit(balance):\n",
        "    \"\"\"Allows the user to deposit funds into the account.\n",
        "\n",
        "    Returns:\n",
        "        float: The amount deposited, or 0 if the amount is invalid.\n",
        "    \"\"\"\n",
        "    amount = float(input(\"Enter amount to deposit: \"))\n",
        "    if amount < 0:\n",
        "        print(\"Invalid amount\")\n",
        "        return 0\n",
        "    else:\n",
        "        print(f\"You have deposited ${amount}\")\n",
        "        return amount\n",
        "\n",
        "def withdraw(balance):\n",
        "    \"\"\"Allows the user to withdraw funds from the account.\n",
        "\n",
        "    Returns:\n",
        "        float: The amount withdrawn, or 0 if the withdrawal is invalid.\n",
        "    \"\"\"\n",
        "    amount = float(input(\"Enter the amount to withdraw: \"))\n",
        "\n",
        "    if amount > balance:\n",
        "        print(\"Insufficient funds\")\n",
        "        return 0\n",
        "    elif amount < 0:\n",
        "        print(\"Amount must be greater than zero\")\n",
        "        return 0\n",
        "    else:\n",
        "        balance -= amount\n",
        "        print(f\"You have withdrawn ${amount}\")\n",
        "        return amount\n",
        "\n",
        "balance = 0\n",
        "is_running = True\n",
        "\n",
        "while is_running:\n",
        "    print(\"Banking Program\")\n",
        "    print(\"1. Show balance\")\n",
        "    print(\"2. Deposit\")\n",
        "    print(\"3. Withdraw\")\n",
        "    print(\"4. Exit\")\n",
        "\n",
        "    choice = input(\"Enter your choice (1-4): \")\n",
        "\n",
        "    if choice == \"1\":\n",
        "        show_balance()\n",
        "    elif choice == \"2\":\n",
        "        balance += deposit(balance)\n",
        "    elif choice == \"3\":\n",
        "        balance -= withdraw(balance)\n",
        "    elif choice == \"4\":\n",
        "        is_running = False\n",
        "    else:\n",
        "        print(\"This is not a valid choice \")\n",
        "\n",
        "print(\"Thank you for banking with us\")\n",
        "\n"
      ],
      "metadata": {
        "colab": {
          "base_uri": "https://localhost:8080/"
        },
        "id": "nhkTL-FszMjE",
        "outputId": "017df93c-c120-4ca7-b8f7-ca86017ae83f",
        "collapsed": true
      },
      "execution_count": 1,
      "outputs": [
        {
          "output_type": "stream",
          "name": "stdout",
          "text": [
            "Banking Program\n",
            "1. Show balance\n",
            "2. Deposit\n",
            "3. Withdraw\n",
            "4. Exit\n",
            "Enter your choice (1-4): 1\n",
            "Your balance is $0.00\n",
            "Banking Program\n",
            "1. Show balance\n",
            "2. Deposit\n",
            "3. Withdraw\n",
            "4. Exit\n",
            "Enter your choice (1-4): 2\n",
            "Enter amount to deposit: 200\n",
            "You have deposited $200.0\n",
            "Banking Program\n",
            "1. Show balance\n",
            "2. Deposit\n",
            "3. Withdraw\n",
            "4. Exit\n",
            "Enter your choice (1-4): 3\n",
            "Enter the amount to withdraw: 25\n",
            "You have withdrawn $25.0\n",
            "Banking Program\n",
            "1. Show balance\n",
            "2. Deposit\n",
            "3. Withdraw\n",
            "4. Exit\n",
            "Enter your choice (1-4): 1\n",
            "Your balance is $175.00\n",
            "Banking Program\n",
            "1. Show balance\n",
            "2. Deposit\n",
            "3. Withdraw\n",
            "4. Exit\n",
            "Enter your choice (1-4): 3\n",
            "Enter the amount to withdraw: 75\n",
            "You have withdrawn $75.0\n",
            "Banking Program\n",
            "1. Show balance\n",
            "2. Deposit\n",
            "3. Withdraw\n",
            "4. Exit\n",
            "Enter your choice (1-4): 1\n",
            "Your balance is $100.00\n",
            "Banking Program\n",
            "1. Show balance\n",
            "2. Deposit\n",
            "3. Withdraw\n",
            "4. Exit\n",
            "Enter your choice (1-4): 4\n",
            "Thank you for banking with us\n"
          ]
        }
      ]
    }
  ]
}