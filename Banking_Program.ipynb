{
  "nbformat": 4,
  "nbformat_minor": 0,
  "metadata": {
    "colab": {
      "provenance": [],
      "authorship_tag": "ABX9TyM4FA9yuuGrscFhBrnqzxKT",
      "include_colab_link": true
    },
    "kernelspec": {
      "name": "python3",
      "display_name": "Python 3"
    },
    "language_info": {
      "name": "python"
    }
  },
  "cells": [
    {
      "cell_type": "markdown",
      "metadata": {
        "id": "view-in-github",
        "colab_type": "text"
      },
      "source": [
        "<a href=\"https://colab.research.google.com/github/muhammedimrans/Python/blob/main/Banking_Program.ipynb\" target=\"_parent\"><img src=\"https://colab.research.google.com/assets/colab-badge.svg\" alt=\"Open In Colab\"/></a>"
      ]
    },
    {
      "cell_type": "code",
      "execution_count": null,
      "metadata": {
        "id": "tjAFq3Q7g7jd"
      },
      "outputs": [],
      "source": [
        "#Python Banking System\n",
        "\n",
        "def show_balance():\n",
        "    \"\"\"Displays the current account balance.\n",
        "\n",
        "    Returns:\n",
        "        float: The current account balance.\n",
        "    \"\"\"\n",
        "    print(f\"Your balance is ${balance:.2f}\")\n",
        "    return balance\n",
        "\n",
        "def deposit(balance):\n",
        "    \"\"\"Allows the user to deposit funds into the account.\n",
        "\n",
        "    Returns:\n",
        "        float: The amount deposited, or 0 if the amount is invalid.\n",
        "    \"\"\"\n",
        "    amount = float(input(\"Enter amount to deposit: \"))\n",
        "    if amount < 0:\n",
        "        print(\"Invalid amount\")\n",
        "        return 0\n",
        "    else:\n",
        "        print(f\"You have deposited ${amount}\")\n",
        "        return amount\n",
        "\n",
        "def withdraw(balance):\n",
        "    \"\"\"Allows the user to withdraw funds from the account.\n",
        "\n",
        "    Returns:\n",
        "        float: The amount withdrawn, or 0 if the withdrawal is invalid.\n",
        "    \"\"\"\n",
        "    amount = float(input(\"Enter the amount to withdraw: \"))\n",
        "\n",
        "    if amount > balance:\n",
        "        print(\"Insufficient funds\")\n",
        "        return 0\n",
        "    elif amount < 0:\n",
        "        print(\"Amount must be greater than zero\")\n",
        "        return 0\n",
        "    else:\n",
        "        balance -= amount\n",
        "        print(f\"You have withdrawn ${amount}\")\n",
        "        return amount\n",
        "\n",
        "balance = 0\n",
        "is_running = True\n",
        "\n",
        "while is_running:\n",
        "    print(\"Banking Program\")\n",
        "    print(\"1. Show balance\")\n",
        "    print(\"2. Deposit\")\n",
        "    print(\"3. Withdraw\")\n",
        "    print(\"4. Exit\")\n",
        "\n",
        "    choice = input(\"Enter your choice (1-4): \")\n",
        "\n",
        "    if choice == \"1\":\n",
        "        show_balance()\n",
        "    elif choice == \"2\":\n",
        "        balance += deposit(balance)\n",
        "    elif choice == \"3\":\n",
        "        balance -= withdraw(balance)\n",
        "    elif choice == \"4\":\n",
        "        is_running = False\n",
        "    else:\n",
        "        print(\"This is not a valid choice \")\n",
        "\n",
        "print(\"Thank you for banking with us\")\n",
        "\n"
      ]
    }
  ]
}