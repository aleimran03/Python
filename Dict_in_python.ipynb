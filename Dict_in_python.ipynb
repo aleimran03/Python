{
  "nbformat": 4,
  "nbformat_minor": 0,
  "metadata": {
    "colab": {
      "provenance": [],
      "authorship_tag": "ABX9TyPK01iDJNxwUQfhutoMcN4U",
      "include_colab_link": true
    },
    "kernelspec": {
      "name": "python3",
      "display_name": "Python 3"
    },
    "language_info": {
      "name": "python"
    }
  },
  "cells": [
    {
      "cell_type": "markdown",
      "metadata": {
        "id": "view-in-github",
        "colab_type": "text"
      },
      "source": [
        "<a href=\"https://colab.research.google.com/github/muhammedimrans/Python/blob/main/Dict_in_python.ipynb\" target=\"_parent\"><img src=\"https://colab.research.google.com/assets/colab-badge.svg\" alt=\"Open In Colab\"/></a>"
      ]
    },
    {
      "cell_type": "code",
      "execution_count": 33,
      "metadata": {
        "colab": {
          "base_uri": "https://localhost:8080/",
          "height": 139
        },
        "id": "dGn40WO0sfvX",
        "outputId": "16c56769-2ffd-4495-eef4-a5a4ca504396"
      },
      "outputs": [
        {
          "output_type": "stream",
          "name": "stdout",
          "text": [
            "None\n",
            "USA: Washington DC\n",
            "India: New Delhi\n",
            "China: Beijing\n",
            "Russia: Moscue\n",
            "Germany: Guuava\n"
          ]
        },
        {
          "output_type": "execute_result",
          "data": {
            "text/plain": [
              "'\\nif capitals.get(\"India\") == None:\\n    print(\"Capital Does not exist\")\\nelse:\\n    print(\"Capital does exist\")\\n'"
            ],
            "application/vnd.google.colaboratory.intrinsic+json": {
              "type": "string"
            }
          },
          "metadata": {},
          "execution_count": 33
        }
      ],
      "source": [
        "#Dictionary = a collection of {key:value}pairs\n",
        "# \t\tOrdered and Changeable no duplicates\n",
        "#     Case sensitive\n",
        "\n",
        "capitals = {\"USA\":\"Washington DC\", \"India\":\"New Delhi\", \"China\":\"Beijing\", \"Russia\":\"Moscue\",}\n",
        "\n",
        "#print(dir(capitals)) #it will show all the attributes that can be used on this dictionaries\n",
        "#print(help(capitals))\n",
        "\n",
        "print(capitals.get(\"india\")) # it will give the value of Washington DC as we are getting the USA details\n",
        "capitals.update({\"Germany\": \"Berlin\"}) #we can update or add new one using update with flower brackets\n",
        "capitals.update({\"Germany\": \"Guuava\"}) #we are updating here a new value for germany\n",
        "#capitals.pop(\"China\") # here we are removing china from dictionary\n",
        "#capitals.popitem() # here it will remove the last item like germany\n",
        "#capitals.clear() #here it will clear all the dictionary\n",
        "\n",
        "#here it comes the difficult part\n",
        "\n",
        "#key = capitals.keys() #capitals.keys() will only show the keys values\n",
        "#value = capitals.values() #capitals.values() will only show the values\n",
        "#item = capitals.items() # capitals.items(): This method returns a view object containing all the key-value pairs of the capitals dictionary.\n",
        "\n",
        "#print(key)\n",
        "#print(capitals)\n",
        "#we can iterate the dictionaries using key\n",
        "'''\n",
        "for key in capitals.keys():\n",
        "    print(key)\n",
        "\n",
        "#we can iterate the dictionaries using values\n",
        "\n",
        "for value in capitals.values():\n",
        "    print(value)\n",
        "\n",
        "item = capitals.items()\n",
        "print(item)\n",
        "'''\n",
        "for key, value in capitals.items():\n",
        "    print(f\"{key}: {value}\")\n",
        "\n",
        "\"\"\"\n",
        "if capitals.get(\"India\") == None:\n",
        "    print(\"Capital Does not exist\")\n",
        "else:\n",
        "    print(\"Capital does exist\")\n",
        "\"\"\""
      ]
    },
    {
      "cell_type": "code",
      "source": [
        "#Program for a concession stand\n",
        "\n",
        "menu = {\"pizza\": 3.00,\n",
        "        \"nachos\": 4.00,\n",
        "        \"popcorn\": 6.00,\n",
        "        \"fries\": 2.34,\n",
        "        \"chips\": 2.22,\n",
        "        \"pretzel\": 1.47,\n",
        "        \"soda\": 3.94,\n",
        "        \"lemonide\": 2.99}\n",
        "\n",
        "cart = []\n",
        "total = 0\n",
        "\n",
        "for key, value in menu.items():\n",
        "    print(f\"{key:10} : ${value:.2F}\")\n",
        "\n",
        "while True:\n",
        "    food = input(\"Select an item (Press q to Quit) :\").lower()\n",
        "    if food == \"q\":\n",
        "      break\n",
        "    elif menu.get(food) is not None:\n",
        "      cart.append(food)\n",
        "\n",
        "print(\"--------YOUR ORDER IS--------\")\n",
        "\n",
        "for food in cart:\n",
        "    total += menu.get(food)\n",
        "    print(food, end=\" \")\n",
        "print()\n",
        "print(f\"Total Price is : ${total:.2f}\")\n"
      ],
      "metadata": {
        "colab": {
          "base_uri": "https://localhost:8080/"
        },
        "id": "MvoUj2YD2hX2",
        "outputId": "ac410a7b-a4b4-43d8-da91-f675d897bef9"
      },
      "execution_count": 42,
      "outputs": [
        {
          "output_type": "stream",
          "name": "stdout",
          "text": [
            "pizza      : $3.00\n",
            "nachos     : $4.00\n",
            "popcorn    : $6.00\n",
            "fries      : $2.34\n",
            "chips      : $2.22\n",
            "pretzel    : $1.47\n",
            "soda       : $3.94\n",
            "lemonide   : $2.99\n",
            "Select an item (Press q to Quit) :pizza\n",
            "Select an item (Press q to Quit) :popcorn\n",
            "Select an item (Press q to Quit) :soda\n",
            "Select an item (Press q to Quit) :q\n",
            "--------YOUR ORDER IS--------\n",
            "pizza popcorn soda \n",
            "Total Price is : $12.94\n"
          ]
        }
      ]
    }
  ]
}