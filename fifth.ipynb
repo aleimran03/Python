{
 "cells": [
  {
   "cell_type": "code",
   "execution_count": 13,
   "id": "edcc6cca-fef2-48cc-9380-182ce44f4cf5",
   "metadata": {
    "panel-layout": {
     "height": 0,
     "visible": true,
     "width": 100
    }
   },
   "outputs": [
    {
     "name": "stdout",
     "output_type": "stream",
     "text": [
      "Hello Mohammed , how are you and you liked pizza Thank you\n",
      "pizza is not my favourite\n",
      "This is my email : ilovepizza@gmail.com thank you\n",
      "my age is 24 years old and iam virgin\n",
      "I have a balance of $3.8 number\n"
     ]
    }
   ],
   "source": [
    "name = \"Mohammed\"\n",
    "food = \"pizza\"\n",
    "email = \"ilovepizza@gmail.com\"\n",
    "age = 24\n",
    "quantity = 3.8\n",
    "print(f\"Hello {name} , how are you and you liked {food} Thank you\")\n",
    "print(f\"{food} is not my favourite\")\n",
    "print(f\"This is my email : {email} thank you\")\n",
    "print(f\"my age is {age} years old and iam virgin\")\n",
    "print(f\"I have a balance of ${quantity} number\")"
   ]
  },
  {
   "cell_type": "code",
   "execution_count": 15,
   "id": "5d595cd2-711f-40c6-973b-b99ab8f255da",
   "metadata": {
    "panel-layout": {
     "height": 0,
     "visible": true,
     "width": 100
    }
   },
   "outputs": [
    {
     "name": "stdout",
     "output_type": "stream",
     "text": [
      "<class 'str'>\n",
      "<class 'int'>\n",
      "<class 'float'>\n",
      "<class 'bool'>\n",
      "<class 'int'>\n"
     ]
    }
   ],
   "source": [
    "#Type Casting\n",
    "#Converting one variable to another\n",
    "#str(), int(), float(), bool()\n",
    "\n",
    "name = \"Mohammed IMran\"\n",
    "age = 24\n",
    "gpa = 6.34\n",
    "is_student = True\n",
    "\n",
    "print(type(name))\n",
    "print(type(age))\n",
    "print(type(gpa))\n",
    "print(type(is_student))\n",
    "\n",
    "gpa = int(gpa)\n",
    "print(type(gpa))\n"
   ]
  },
  {
   "cell_type": "code",
   "execution_count": 2,
   "id": "d09f054d-ceac-49ee-b509-01ef25229d93",
   "metadata": {},
   "outputs": [
    {
     "name": "stdin",
     "output_type": "stream",
     "text": [
      "What are the iteams you are planning to buy : pizza\n",
      "Whats the price of that item : 25\n",
      "Number of iteams you want to purchase : 5\n"
     ]
    },
    {
     "name": "stdout",
     "output_type": "stream",
     "text": [
      "125.0\n"
     ]
    }
   ],
   "source": [
    "#Shooping cart program\n",
    "\n",
    "item = input(\"What are the iteams you are planning to buy :\")\n",
    "price = float(input(\"Whats the price of that item :\"))\n",
    "quantity = int(input(\"Number of iteams you want to purchase :\"))\n",
    "\n",
    "total = price * quantity\n",
    "print(total)\n",
    "\n"
   ]
  },
  {
   "cell_type": "code",
   "execution_count": 3,
   "id": "c74be0e4-8a64-4bff-bed6-69cf5aa75577",
   "metadata": {},
   "outputs": [
    {
     "name": "stdin",
     "output_type": "stream",
     "text": [
      "Enter an adjective (description):  Mad\n",
      "Enter a noun (person, place, thing):  Elon\n",
      "Enter an adjective (description):  god\n",
      "Enter a verb ending with 'ing' helping\n",
      "Enter an adjective (description):  god\n"
     ]
    },
    {
     "name": "stdout",
     "output_type": "stream",
     "text": [
      "Today I went to a Mad zoo.\n",
      "In a exhibit. I saw a Elon\n",
      "Elon was god and helping\n",
      "I was god!\n"
     ]
    }
   ],
   "source": [
    "adjective1 = input(\"Enter an adjective (description): \")\n",
    "noun1 = input(\"Enter a noun (person, place, thing): \")\n",
    "adjective2 = input(\"Enter an adjective (description): \")\n",
    "verb1 = input(\"Enter a verb ending with 'ing'\") \n",
    "adjective3 = input(\"Enter an adjective (description): \")\n",
    "\n",
    "print(f\"Today I went to a {adjective1} zoo.\")\n",
    "print(f\"In a exhibit. I saw a {noun1}\")\n",
    "print(f\"{noun1} was {adjective2} and {verb1}\")\n",
    "print(f\"I was {adjective3}!\")"
   ]
  },
  {
   "cell_type": "code",
   "execution_count": 16,
   "id": "29db69f2-940a-41e3-8800-563f4de506ec",
   "metadata": {},
   "outputs": [
    {
     "name": "stdout",
     "output_type": "stream",
     "text": [
      "3.14\n"
     ]
    }
   ],
   "source": [
    "x = 3.14\n",
    "y = 5\n",
    "z = 34\n",
    "\n",
    "result = round(x) # round Important\n",
    "result = abs(y)  # it gove _ values\n",
    "result = pow(4, 3)  # 4 to the power of 3\n",
    "result = max(x, y, z) #gives the max values\n",
    "result = min(x, y, z) #gives the min values\n",
    "\n",
    "print(result)"
   ]
  },
  {
   "cell_type": "code",
   "execution_count": 18,
   "id": "bad2c48f-fcba-4f1d-b3ae-d53892534d63",
   "metadata": {},
   "outputs": [
    {
     "name": "stdout",
     "output_type": "stream",
     "text": [
      "3.141592653589793\n",
      "2.718281828459045\n",
      "3.146426544510455\n",
      "10\n",
      "9\n"
     ]
    }
   ],
   "source": [
    "import math\n",
    "\n",
    "x = 9.9\n",
    "\n",
    "print(math.pi) #for Pi value\n",
    "print(math.e) #for exponential function\n",
    "result = math.sqrt(x) #for square root of value\n",
    "print(result)\n",
    "result = math.ceil(x) # round up to 10\n",
    "print(result)\n",
    "result = math.floor(x) # round up to 9\n",
    "print(result)"
   ]
  },
  {
   "cell_type": "code",
   "execution_count": 35,
   "id": "a31f8053-9314-44c9-adb9-f61636ca1b4e",
   "metadata": {},
   "outputs": [
    {
     "name": "stdin",
     "output_type": "stream",
     "text": [
      "Please enter the radius of the circle:  10.5\n"
     ]
    },
    {
     "name": "stdout",
     "output_type": "stream",
     "text": [
      "Circumference of the circle is 65.9734\n",
      "Area of the circle is 346.36\n"
     ]
    }
   ],
   "source": [
    "# Circumference of a circle\n",
    "import math\n",
    "radius = float(input(\"Please enter the radius of the circle: \"))\n",
    "circum = float( 2 * math.pi * radius)\n",
    "print(\"Circumference of the circle is\", round(circum, 4))\n",
    "\n",
    "area = math.pi * pow(radius, 2)\n",
    "print(f\"Area of the circle is {round(area, 2)}\")"
   ]
  }
 ],
 "metadata": {
  "kernelspec": {
   "display_name": "Python 3 (ipykernel)",
   "language": "python",
   "name": "python3"
  },
  "language_info": {
   "codemirror_mode": {
    "name": "ipython",
    "version": 3
   },
   "file_extension": ".py",
   "mimetype": "text/x-python",
   "name": "python",
   "nbconvert_exporter": "python",
   "pygments_lexer": "ipython3",
   "version": "3.12.7"
  },
  "panel-cell-order": [
   "edcc6cca-fef2-48cc-9380-182ce44f4cf5",
   "5d595cd2-711f-40c6-973b-b99ab8f255da"
  ]
 },
 "nbformat": 4,
 "nbformat_minor": 5
}
