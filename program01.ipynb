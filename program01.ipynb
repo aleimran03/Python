{
  "cells": [
    {
      "cell_type": "markdown",
      "metadata": {
        "id": "view-in-github",
        "colab_type": "text"
      },
      "source": [
        "<a href=\"https://colab.research.google.com/github/muhammedimrans/Python/blob/main/program01.ipynb\" target=\"_parent\"><img src=\"https://colab.research.google.com/assets/colab-badge.svg\" alt=\"Open In Colab\"/></a>"
      ]
    },
    {
      "cell_type": "code",
      "execution_count": 2,
      "metadata": {
        "colab": {
          "base_uri": "https://localhost:8080/"
        },
        "id": "mz_Lp8JV5-H_",
        "outputId": "11207ac9-2916-4ba3-ab88-a035e2c913ae"
      },
      "outputs": [
        {
          "output_type": "stream",
          "name": "stdout",
          "text": [
            "Hello World \n",
            "Hello America \n",
            "Hello India\n"
          ]
        }
      ],
      "source": [
        "print(\"Hello World \\nHello America \\nHello India\")"
      ]
    },
    {
      "cell_type": "markdown",
      "metadata": {
        "id": "hmOrN3QjArkI"
      },
      "source": [
        "# New Section"
      ]
    },
    {
      "cell_type": "code",
      "execution_count": null,
      "metadata": {
        "colab": {
          "base_uri": "https://localhost:8080/"
        },
        "id": "kuvdQECf7SQe",
        "outputId": "980980c7-d15a-428e-f751-4b912ed57175"
      },
      "outputs": [
        {
          "name": "stdout",
          "output_type": "stream",
          "text": [
            "28.8 µs ± 743 ns per loop (mean ± std. dev. of 7 runs, 10000 loops each)\n"
          ]
        }
      ],
      "source": [
        "%timeit [i**2 for i in range (100)]"
      ]
    },
    {
      "cell_type": "code",
      "execution_count": null,
      "metadata": {
        "colab": {
          "base_uri": "https://localhost:8080/"
        },
        "id": "bwvvFCZf9ClQ",
        "outputId": "b5ca7059-03a8-42d4-9c14-92a729e49bc2"
      },
      "outputs": [
        {
          "name": "stdout",
          "output_type": "stream",
          "text": [
            "33\n",
            "34\n"
          ]
        }
      ],
      "source": [
        "number = 7\n",
        "a = 34\n",
        "b = 33\n",
        "min_num = a if a < b else b  # Less than\n",
        "max_num = a if a > b else b  # greater than\n",
        "print(min_num)\n",
        "print(max_num)\n",
        "\n"
      ]
    },
    {
      "cell_type": "code",
      "execution_count": null,
      "metadata": {
        "colab": {
          "base_uri": "https://localhost:8080/"
        },
        "id": "Kgo_QBAw_6lP",
        "outputId": "8ba6ed60-5385-443b-a538-1a2a4f0ce90a"
      },
      "outputs": [
        {
          "name": "stdout",
          "output_type": "stream",
          "text": [
            "Enter the number that needs to check if its EVEN or ODD: 25\n",
            "Number is an ODD Number\n"
          ]
        }
      ],
      "source": [
        "\n",
        "from pickle import TRUE\n",
        "number = int(input(\"Enter the number that needs to check if its EVEN or ODD: \"))\n",
        "if number % 2 == 0:\n",
        "    print(\"Number is an Even Number\")\n",
        "else:\n",
        "    print(\"Number is an ODD Number\")\n"
      ]
    },
    {
      "cell_type": "code",
      "execution_count": null,
      "metadata": {
        "colab": {
          "base_uri": "https://localhost:8080/"
        },
        "id": "L-KrKZEJr4hQ",
        "outputId": "18f052fc-cbc7-45dd-dcb2-28a06b4f5e00"
      },
      "outputs": [
        {
          "name": "stdout",
          "output_type": "stream",
          "text": [
            "ADULT\n",
            "Enter a number: 24\n",
            "Number is EVEN\n"
          ]
        }
      ],
      "source": [
        "age = 19\n",
        "\n",
        "status = \"ADULT\" if age >= 18 else \"CHILD\"\n",
        "print(status)\n",
        "while True:\n",
        "    try:\n",
        "        number = int(input(\"Enter a number: \"))\n",
        "        break\n",
        "    except ValueError:\n",
        "        print(\"Invalid input. Please enter a number.\")\n",
        "status = \"Number is EVEN\" if number % 2 == 0 else \"Number is ODD\"\n",
        "print(status)"
      ]
    },
    {
      "cell_type": "code",
      "execution_count": null,
      "metadata": {
        "colab": {
          "base_uri": "https://localhost:8080/"
        },
        "id": "hKwAhA1Et9sI",
        "outputId": "96424211-3795-4d98-c3e4-fc428b09b053"
      },
      "outputs": [
        {
          "name": "stdout",
          "output_type": "stream",
          "text": [
            "Todays Temperature is COLD\n",
            "You have an FULL ACCESS\n"
          ]
        }
      ],
      "source": [
        "temp = 19\n",
        "access = \"admin\"\n",
        "weather = \"HOT\" if temp > 20 else \"COLD\" # One Line IF statement\n",
        "print(f\"Todays Temperature is {weather}\")\n",
        "\n",
        "access_level = \"FULL ACCESS\" if access == \"admin\" else \"LIMITED_ACCESS\"  # One Line IF statement\n",
        "print(f\"You have an {access_level}\")"
      ]
    },
    {
      "cell_type": "code",
      "execution_count": null,
      "metadata": {
        "colab": {
          "base_uri": "https://localhost:8080/"
        },
        "id": "8bbe882Mwss3",
        "outputId": "47f2403b-7e8b-4c7f-adf6-15baf41c2be3"
      },
      "outputs": [
        {
          "name": "stdout",
          "output_type": "stream",
          "text": [
            "1\n",
            "0\n",
            "This is my program and i will write the shit what i want\n",
            "True\n",
            "False\n",
            "<class 'bool'>\n",
            "<class 'bool'>\n"
          ]
        }
      ],
      "source": [
        "a = True\n",
        "b = False\n",
        "print(int(a))\n",
        "print(int(b))\n",
        "if (int(a)==0):\n",
        "    print(\"This is not a zero type integer\")\n",
        "else:\n",
        "    print(\"This is my program and i will write the shit what i want\")\n",
        "print(a)\n",
        "print(b)\n",
        "print(type(a))\n",
        "print(type(b))\n",
        "\n"
      ]
    },
    {
      "cell_type": "code",
      "execution_count": null,
      "metadata": {
        "colab": {
          "base_uri": "https://localhost:8080/"
        },
        "id": "ITcZSuNQxrw0",
        "outputId": "21e7c5f8-bb19-4a19-bc7a-25ed8c7f6d4f"
      },
      "outputs": [
        {
          "name": "stdout",
          "output_type": "stream",
          "text": [
            "Azaa is going on \n",
            "Is Azaa Completed Please answer yes or No :Yes\n",
            "Please avoid watching till azaa gets completes\n",
            "Hope you have a god blessings\n"
          ]
        }
      ],
      "source": [
        "print(\"Azaa is going on \")\n",
        "aza = str(input(\"Is Azaa Completed Please answer yes or No :\"))\n",
        "\n",
        "if aza == 'yes':\n",
        "  print(\"You can watch the TV\")\n",
        "else:\n",
        "  print(\"Please avoid watching till azaa gets completes\")\n",
        "\n",
        "print(\"Hope you have a god blessings\")"
      ]
    },
    {
      "cell_type": "code",
      "execution_count": null,
      "metadata": {
        "colab": {
          "base_uri": "https://localhost:8080/"
        },
        "id": "7zJLoKaRlSu1",
        "outputId": "66dc1d5a-454b-42c8-9a26-b821d3a7e1c0"
      },
      "outputs": [
        {
          "name": "stdout",
          "output_type": "stream",
          "text": [
            "Enter your name to check the length of the char: Mohammed Imran\n",
            "14\n",
            "8\n",
            "12\n",
            "Your name is : MOHAMMED IMRAN\n"
          ]
        }
      ],
      "source": [
        "name = input(\"Enter your name to check the length of the char: \")\n",
        "result = len(name)\n",
        "result0 = name.find(\" \")  # to find the space character in the program\n",
        "result1 = name.rfind(\"a\") # it checks fro a reverse value not from left from right value it shows result\n",
        "name = name.capitalize() #it Capitalize the first string of name\n",
        "name = name.upper()  #Converts string to Upper case\n",
        "name = name.lower()  #Lower case the letters in the name\n",
        "name = is.digit() #it shows only true if only numbers have been enteres\n",
        "name = is.alpha() # it returns only true if only alohabets have been entered withoout space\n",
        "phone_number = phone_number.replace(\"-\", \" \")  # it replace the - to space in number\n",
        "\n",
        "print(result)\n",
        "print(result0)\n",
        "print(result1)\n",
        "print(\"Your name is :\", name)\n",
        "\n",
        "\n",
        "Print(help(str))  #--> it gives the all the shortcut string that we use earlier\n",
        "\n"
      ]
    },
    {
      "cell_type": "code",
      "execution_count": null,
      "metadata": {
        "colab": {
          "background_save": true
        },
        "id": "ksFJC387pcyB",
        "outputId": "476dc370-6720-4342-8871-e8b94b5d386b"
      },
      "outputs": [
        {
          "name": "stdout",
          "output_type": "stream",
          "text": [
            "1\n",
            "1234\n",
            "3423\n",
            "1234\n",
            "3423-3456-2343\n",
            "3\n",
            "1-353\n"
          ]
        }
      ],
      "source": [
        "#indexing = accessing elements of a sequence using [] (indexing operations)\n",
        "#\t[start : end : step]\n",
        "\n",
        "credit_number = \"1234-3423-3456-2343\"\n",
        "print(credit_number[0]) #prints first number\n",
        "print(credit_number[0:4]) # Prints from 0 to 3\n",
        "print(credit_number[5:9]) # Prints from 5 to 8\n",
        "print(credit_number[:4]) # if we dont defines also it will execute form 0 to 4\n",
        "print(credit_number[5:]) # if we dont define the last index it will execute from 5 to last number\n",
        "print(credit_number[-1]) # Prints from last\n",
        "print(credit_number[::2]) # Prints every second character\n",
        "\n"
      ]
    },
    {
      "cell_type": "code",
      "execution_count": null,
      "metadata": {
        "id": "zi4WGojoD4to",
        "colab": {
          "base_uri": "https://localhost:8080/"
        },
        "outputId": "41eaed2b-b7cc-4060-fd60-f29ecde4c1ce"
      },
      "outputs": [
        {
          "output_type": "stream",
          "name": "stdout",
          "text": [
            "What is your name: Imran\n",
            "Imran\n"
          ]
        }
      ],
      "source": [
        "name = input(\"What is your name: \")\n",
        "\n",
        "print(name) if name.isalpha() else print(\"Invalid Character\")"
      ]
    },
    {
      "cell_type": "code",
      "source": [
        "name = input(\"What is your First and Last name :\")\n",
        "#print (name) if name.isalpha() else print(\"Invalid keyword\")\n",
        "if all(char.isalpha() or char.isspace() for char in name):\n",
        "    print(name)\n",
        "else:\n",
        "    print(\"Invalid Character\")\n",
        "\n"
      ],
      "metadata": {
        "id": "cAL23e_2gIYD",
        "colab": {
          "base_uri": "https://localhost:8080/"
        },
        "outputId": "bf174d8f-fcf5-4781-fa2d-1334dae45aa7"
      },
      "execution_count": null,
      "outputs": [
        {
          "output_type": "stream",
          "name": "stdout",
          "text": [
            "What is your First and Last name :Mohammed Imran\n",
            "Mohammed Imran\n"
          ]
        }
      ]
    },
    {
      "cell_type": "code",
      "source": [
        "# prompt: program for every click dice should rotate and give the number from 1 to 6\n",
        "\n",
        "import random\n",
        "import time\n",
        "\n",
        "def roll_dice():\n",
        "  \"\"\"Simulates rolling a six-sided die and provides visual feedback.\"\"\"\n",
        "\n",
        "  # Generate a random number between 1 and 6\n",
        "  roll = random.randint(1, 6)\n",
        "\n",
        "  # Simulate dice rotation (visual effect)\n",
        "  print(\"Rolling the dice...\")\n",
        "  time.sleep(1)  # Pause for 1 second\n",
        "  print(\"...\")\n",
        "  time.sleep(0.5) # Pause for 0.5 second\n",
        "  print(f\"The result is: {roll}\")\n",
        "  return roll\n",
        "\n",
        "\n",
        "# Example usage:\n",
        "roll_dice()"
      ],
      "metadata": {
        "colab": {
          "base_uri": "https://localhost:8080/"
        },
        "id": "ZACVn1Ye3zjg",
        "outputId": "aef368b9-ef5b-4d02-b672-017ca7ecba88"
      },
      "execution_count": null,
      "outputs": [
        {
          "output_type": "stream",
          "name": "stdout",
          "text": [
            "Rolling the dice...\n",
            "...\n",
            "The result is: 1\n"
          ]
        },
        {
          "output_type": "execute_result",
          "data": {
            "text/plain": [
              "1"
            ]
          },
          "metadata": {},
          "execution_count": 1
        }
      ]
    },
    {
      "cell_type": "code",
      "source": [
        "username = input(\"Enter the username of the user :\")\n",
        "\n",
        "if len(username) > 12:\n",
        "\tprint(\"Username should not contain more than 12 characters\")\n",
        "elif not username.find(\" \") == -1:\n",
        "\tprint(\"Username should not contain space\")\n",
        "elif not username.isalpha():\n",
        "\tprint(\"Username should not contain digits\")\n",
        "else:\n",
        "\tprint(f\"Welcome {username}\")\n"
      ],
      "metadata": {
        "colab": {
          "base_uri": "https://localhost:8080/"
        },
        "id": "nzl9zqmqfdnR",
        "outputId": "bd0227b4-1e2f-45a1-9672-7cd461431f65"
      },
      "execution_count": null,
      "outputs": [
        {
          "output_type": "stream",
          "name": "stdout",
          "text": [
            "Enter the username of the user :Mohammed\n",
            "Welcome Mohammed\n"
          ]
        }
      ]
    },
    {
      "cell_type": "code",
      "source": [
        "credit_number = \"1234-3423-3456-2343\"\n",
        "#print(credit_number[0]) #prints first number\n",
        "#print(credit_number[0:4]) # Prints from 0 to 3\n",
        "#print(credit_number[5:9]) # Prints from 5 to 8\n",
        "#print(credit_number[:4]) # if we dont defines also it will execute form 0 to 4\n",
        "#print(credit_number[5:]) # if we dont define the last index it will execute from 5 to last number\n",
        "#print(credit_number[-1]) # Prints from last\n",
        "print(credit_number[::2]) # Prints every second character"
      ],
      "metadata": {
        "colab": {
          "base_uri": "https://localhost:8080/"
        },
        "id": "4HB7zvQFgy94",
        "outputId": "39252c17-beb4-4af6-f641-3771c21e1971"
      },
      "execution_count": null,
      "outputs": [
        {
          "output_type": "stream",
          "name": "stdout",
          "text": [
            "13-4335-33\n"
          ]
        }
      ]
    },
    {
      "cell_type": "code",
      "source": [
        "price1 = 3000.14159\n",
        "price2 = -987.65\n",
        "price3 = 12.34\n",
        "print(f\"Price1 is ${price1 :.1f}\")\n",
        "print(f\"Price2 is ${price2 :+1f}\")\n",
        "print(f\"Price3 is ${price3 :.1f}\")\n",
        "print(f\"Price1 is ${price1 :10}\") #10 digits\n",
        "print(f\"Price1 is ${price1 :010}\") #0 padded with 10\n",
        "print(f\"Price1 is ${price1 :<10}\") #left justified with 10 digits\n",
        "print(f\"Price1 is ${price1 :>10}\") #right justified with 10 digits\n",
        "print(f\"Price1 is ${price1 :^10}\") #Center justified with 10 digits\n",
        "print(f\"Price1 is ${price1 :+}\") #any positive value will be shown as + sign and _ve one will not show + sign\n",
        "print(f\"Price1 is ${price2 :+}\") #any positive value will be shown as + sign and _ve one will not show - sign\n",
        "print(f\"Price1 is ${price1 :,}\") #will put , it can be only use if there are three digits Ex: 3000.00 not like 30.00\n",
        "print(f\"Price1 is ${price1 :+,.2f}\") # added + , and .2f"
      ],
      "metadata": {
        "colab": {
          "base_uri": "https://localhost:8080/"
        },
        "id": "gd0OhMWqJMTq",
        "outputId": "1de91451-c7b3-4b38-e40b-e4fc29508eec"
      },
      "execution_count": null,
      "outputs": [
        {
          "output_type": "stream",
          "name": "stdout",
          "text": [
            "Price1 is $3000.1\n",
            "Price2 is $-987.650000\n",
            "Price3 is $12.3\n",
            "Price1 is $3000.14159\n",
            "Price1 is $3000.14159\n",
            "Price1 is $3000.14159\n",
            "Price1 is $3000.14159\n",
            "Price1 is $3000.14159\n",
            "Price1 is $+3000.14159\n",
            "Price1 is $-987.65\n",
            "Price1 is $3,000.14159\n",
            "Price1 is $+3,000.14\n"
          ]
        }
      ]
    },
    {
      "cell_type": "code",
      "source": [
        "\n",
        "name = input(\"Enter your name :\")\n",
        "#if name == \"\":\n",
        "#\tprint(\"You did not enter your name\")\n",
        "#else:\n",
        "#\tprint(f\"your name is {name}\")\n",
        "\n",
        "while name == \"\":\n",
        "  print(\"You did not enter your name\")\n",
        "  name = input(\"Please Enter your name :\")\n",
        "print(f\"your name is {name}\")\n",
        "\n",
        "\n"
      ],
      "metadata": {
        "colab": {
          "base_uri": "https://localhost:8080/"
        },
        "id": "FIlGWr9QPbhM",
        "outputId": "a7ac1523-dc40-4a65-c6df-aa2a4a773048"
      },
      "execution_count": null,
      "outputs": [
        {
          "output_type": "stream",
          "name": "stdout",
          "text": [
            "Enter your name :Imran\n",
            "your name is Imran\n"
          ]
        }
      ]
    },
    {
      "cell_type": "code",
      "source": [
        "age = int(input(\"Enter your age :\"))\n",
        "\n",
        "while age < 0:\n",
        "\tprint(\"Age can't be negative\")\n",
        "\tage = int(input(\"Enter your age :\"))\n",
        "print(f\"You are {age} years old\")"
      ],
      "metadata": {
        "colab": {
          "base_uri": "https://localhost:8080/"
        },
        "id": "DVjrvZ3g8p5e",
        "outputId": "3b350610-a5c6-40d5-d49e-bb389cab3e4b"
      },
      "execution_count": null,
      "outputs": [
        {
          "output_type": "stream",
          "name": "stdout",
          "text": [
            "Enter your age :21\n",
            "You are 21 years old\n"
          ]
        }
      ]
    },
    {
      "cell_type": "code",
      "source": [
        "#Example 2 on While loop\n",
        "food = input(\"Enter the food you like (q to exit) :\")\n",
        "\n",
        "while not food == 'q':\n",
        "  print(f\"You like {food}\")\n",
        "  food = input(\"Enter the another food you like :\")\n",
        "print(\"Bye Take care\")\n"
      ],
      "metadata": {
        "colab": {
          "base_uri": "https://localhost:8080/"
        },
        "id": "e5Bwh5Yg81cu",
        "outputId": "c490280f-86ca-43f6-b831-5a5a9dd7c739"
      },
      "execution_count": null,
      "outputs": [
        {
          "output_type": "stream",
          "name": "stdout",
          "text": [
            "Enter the food you like (q to exit) :pizza\n",
            "You like pizza\n",
            "Enter the another food you like :burger\n",
            "You like burger\n",
            "Enter the another food you like :q\n",
            "Bye Take care\n"
          ]
        }
      ]
    },
    {
      "cell_type": "code",
      "source": [
        "#Example 3 on While loop\n",
        "num = int(input(\"Enter the number greater than 1 and less than 10 :\"))\n",
        "\n",
        "while num < 0 or num > 10:\n",
        "  print(f\"Not a valid Number\")\n",
        "  num = int(input(\"Please Enter the number greater than 1 and less than 10 :\"))\n",
        "print(f\"Entered number is {num}\")\n"
      ],
      "metadata": {
        "colab": {
          "base_uri": "https://localhost:8080/"
        },
        "id": "njAi35fK-ujQ",
        "outputId": "c0de505e-1d2e-4eb6-886d-72d10236a5b8"
      },
      "execution_count": null,
      "outputs": [
        {
          "output_type": "stream",
          "name": "stdout",
          "text": [
            "Enter the number greater than 1 and less than 10 :-1\n",
            "Not a valid Number\n",
            "Please Enter the number greater than 1 and less than 10 :-4\n",
            "Not a valid Number\n",
            "Please Enter the number greater than 1 and less than 10 :4\n",
            "Entered number is 4\n"
          ]
        }
      ]
    },
    {
      "cell_type": "markdown",
      "source": [],
      "metadata": {
        "id": "l9i__lFsB6hO"
      }
    },
    {
      "cell_type": "code",
      "source": [
        "principal = 0\n",
        "rate = 0\n",
        "time = 0\n",
        "\n",
        "while principal <= 0:\n",
        "  principal = float(input(\"Please Enter the Principal amount greater than 0 :\"))\n",
        "  print(f\"Principal amount is {principal}\")\n",
        "while rate <= 0:\n",
        "  rate = float(input(\"Please Enter the Interest Rate can't be less than zero :\"))\n",
        "  print(f\"Interest Rate is {rate}\")\n",
        "while time <= 0:\n",
        "  time = int(input(\"Enter the time that cant be less than zero :\"))\n",
        "  print(f\"Time is {time} years\")\n",
        "\n",
        "total = principal * pow((1 + rate / 100), time)\n",
        "print(f\"Balance after {time} years: ${total:.2f}\")\n",
        "\n"
      ],
      "metadata": {
        "colab": {
          "base_uri": "https://localhost:8080/"
        },
        "id": "SKavUBKJA_cb",
        "outputId": "722d52a6-7e5a-4ea0-8dca-96d376feaaad"
      },
      "execution_count": null,
      "outputs": [
        {
          "output_type": "stream",
          "name": "stdout",
          "text": [
            "Please Enter the Principal amount greater than 0 :100\n",
            "Principal amount is 100.0\n",
            "Please Enter the Interest Rate can't be less than zero :1\n",
            "Interest Rate is 1.0\n",
            "Enter the time that cant be less than zero :1\n",
            "Time is 1 years\n",
            "Balance after 1 years: $101.00\n"
          ]
        }
      ]
    },
    {
      "cell_type": "code",
      "source": [
        "principal = 0\n",
        "rate = 0\n",
        "time = 0\n",
        "\n",
        "while True:\n",
        "  principal = float(input(\"Please Enter the Principal Amount  :\"))\n",
        "  if principal < 0:\n",
        "    print(f\"Please Enter Principal amount Greater than 0\")\n",
        "  else:\n",
        "    break\n",
        "while True:\n",
        "  rate = float(input(\"Please Enter the Interest Rate :\"))\n",
        "  if rate < 0:\n",
        "    print(f\"Please Enter Interest Rate is greater tha  0\")\n",
        "  else:\n",
        "    break\n",
        "while True:\n",
        "  time = int(input(\"Enter the time :\"))\n",
        "  if time < 0:\n",
        "    print(f\"Time should be greater than zero\")\n",
        "  else:\n",
        "    break\n",
        "\n",
        "total = principal * pow((1 + rate / 100), time)\n",
        "print(f\"Balance after {time} years: ${total:.2f}\")"
      ],
      "metadata": {
        "colab": {
          "base_uri": "https://localhost:8080/"
        },
        "id": "VxO0eaoHFl0d",
        "outputId": "adfe235e-cf1e-4ed1-d0ac-099f55879715"
      },
      "execution_count": null,
      "outputs": [
        {
          "output_type": "stream",
          "name": "stdout",
          "text": [
            "Please Enter the Principal Amount  :-1\n",
            "Please Enter Principal amount Greater than 0\n",
            "Please Enter the Principal Amount  :300000\n",
            "Please Enter the Interest Rate :13\n",
            "Enter the time :4\n",
            "Balance after 4 years: $489142.08\n"
          ]
        }
      ]
    },
    {
      "cell_type": "code",
      "source": [
        "#For Statement\n",
        "\n",
        "#for loops = execute a block of code a fixed number of times.\n",
        "#We can iterate over a range, string, sequesnce, etc\n",
        "\n",
        "#for x in reversed(range(1, 11)):\n",
        "#\tprint(x)\n",
        "credit_card = \"1234-3454-2333-2367\"\n",
        "\n",
        "for x in credit_card: #(start , end, in 3 times)\n",
        "\tprint(x)"
      ],
      "metadata": {
        "colab": {
          "base_uri": "https://localhost:8080/"
        },
        "collapsed": true,
        "id": "1rNZ2NC5av0E",
        "outputId": "0f31a870-f205-4111-e917-4392ad15c3e9"
      },
      "execution_count": null,
      "outputs": [
        {
          "output_type": "stream",
          "name": "stdout",
          "text": [
            "1\n",
            "2\n",
            "3\n",
            "4\n",
            "-\n",
            "3\n",
            "4\n",
            "5\n",
            "4\n",
            "-\n",
            "2\n",
            "3\n",
            "3\n",
            "3\n",
            "-\n",
            "2\n",
            "3\n",
            "6\n",
            "7\n"
          ]
        }
      ]
    },
    {
      "cell_type": "code",
      "source": [
        "for x in range(1, 21):\n",
        "\tif x == 13:\n",
        "\t\tcontinue #Skipping number 13\n",
        "\telse:\n",
        "\t\tprint(x)"
      ],
      "metadata": {
        "collapsed": true,
        "colab": {
          "base_uri": "https://localhost:8080/"
        },
        "id": "zZF99IJhcm0A",
        "outputId": "6f927610-bc2a-41e2-d0eb-96593df85eb3"
      },
      "execution_count": null,
      "outputs": [
        {
          "output_type": "stream",
          "name": "stdout",
          "text": [
            "1\n",
            "2\n",
            "3\n",
            "4\n",
            "5\n",
            "6\n",
            "7\n",
            "8\n",
            "9\n",
            "10\n",
            "11\n",
            "12\n",
            "14\n",
            "15\n",
            "16\n",
            "17\n",
            "18\n",
            "19\n",
            "20\n"
          ]
        }
      ]
    },
    {
      "cell_type": "code",
      "source": [
        "import time\n",
        "\n",
        "now = datetime.now()\n",
        "#current_time = now.strftime(\"%H:%M:%S\")\n",
        "print(f\"Current time = {now}\")\n",
        "\n",
        "my_time = int(input(\"Enter the time in Seconds :\"))\n",
        "\n",
        "for x in range(my_time, 0, -1):\n",
        "  seconds = x % 60\n",
        "  minutes = int(x / 60) % 60\n",
        "  hours = int(x / 3600)\n",
        "  print(f\"{hours:02}:{minutes:02}:{seconds:02}\")\n",
        "  time.sleep(1)\n",
        "print(\"Happy New Year\")\n"
      ],
      "metadata": {
        "colab": {
          "base_uri": "https://localhost:8080/"
        },
        "id": "P9_wM2OqBjVu",
        "outputId": "44ff9cec-9c25-4093-b330-75d192921ce9",
        "collapsed": true
      },
      "execution_count": 92,
      "outputs": [
        {
          "output_type": "stream",
          "name": "stdout",
          "text": [
            "Current time = 2025-01-03 13:01:38.754516\n",
            "Enter the time in Seconds :23\n",
            "00:00:23\n",
            "00:00:22\n",
            "00:00:21\n",
            "00:00:20\n",
            "00:00:19\n",
            "00:00:18\n",
            "00:00:17\n",
            "00:00:16\n",
            "00:00:15\n",
            "00:00:14\n",
            "00:00:13\n",
            "00:00:12\n",
            "00:00:11\n",
            "00:00:10\n",
            "00:00:09\n",
            "00:00:08\n",
            "00:00:07\n",
            "00:00:06\n",
            "00:00:05\n",
            "00:00:04\n",
            "00:00:03\n",
            "00:00:02\n",
            "00:00:01\n",
            "Happy New Year\n"
          ]
        }
      ]
    },
    {
      "cell_type": "code",
      "source": [
        "#Nested loop\n",
        "\n",
        "for x in range(15):\n",
        "  for y in range(1, 10):\n",
        "    print(y, end=\".\")  #for each print it will print in a new line by using end and assigning it with empty it wil print in a single line\n",
        "  print()"
      ],
      "metadata": {
        "colab": {
          "base_uri": "https://localhost:8080/"
        },
        "id": "6ihngQlSXYPA",
        "outputId": "9e340711-6d3d-4cf0-8d6e-03ccc6c7a722"
      },
      "execution_count": 14,
      "outputs": [
        {
          "output_type": "stream",
          "name": "stdout",
          "text": [
            "1.2.3.4.5.6.7.8.9.\n",
            "1.2.3.4.5.6.7.8.9.\n",
            "1.2.3.4.5.6.7.8.9.\n",
            "1.2.3.4.5.6.7.8.9.\n",
            "1.2.3.4.5.6.7.8.9.\n",
            "1.2.3.4.5.6.7.8.9.\n",
            "1.2.3.4.5.6.7.8.9.\n",
            "1.2.3.4.5.6.7.8.9.\n",
            "1.2.3.4.5.6.7.8.9.\n",
            "1.2.3.4.5.6.7.8.9.\n",
            "1.2.3.4.5.6.7.8.9.\n",
            "1.2.3.4.5.6.7.8.9.\n",
            "1.2.3.4.5.6.7.8.9.\n",
            "1.2.3.4.5.6.7.8.9.\n",
            "1.2.3.4.5.6.7.8.9.\n"
          ]
        }
      ]
    },
    {
      "cell_type": "code",
      "source": [
        "rows = int(input(\"Enter the # of rows :\"))\n",
        "column = int(input(\"Enter the # of column :\"))\n",
        "symbol = input(\"Enter the Symbol :\")\n",
        "\n",
        "for x in range(rows):\n",
        "\tfor y in range(column):\n",
        "\t\tprint(symbol, end=\".\")\n",
        "\tprint()"
      ],
      "metadata": {
        "colab": {
          "base_uri": "https://localhost:8080/"
        },
        "id": "SSiP46Nmr2a8",
        "outputId": "6d85fd53-343f-4f87-e018-fd7bb8c43084"
      },
      "execution_count": 19,
      "outputs": [
        {
          "output_type": "stream",
          "name": "stdout",
          "text": [
            "Enter the # of rows :4\n",
            "Enter the # of column :5\n",
            "Enter the Symbol :$\n",
            "$.$.$.$.$.\n",
            "$.$.$.$.$.\n",
            "$.$.$.$.$.\n",
            "$.$.$.$.$.\n"
          ]
        }
      ]
    },
    {
      "cell_type": "code",
      "source": [
        "\n",
        "#LISTS and its formats that we will use in the python\n",
        "\n",
        "fruits = [\"orange\", \"banana\", \"pineapple\", \"apple\", \"strawberry\"]\n",
        "#print(help(fruits)) # it will show all the functions that we can executes in lists\n",
        "#print(fruits[0:3]) # lists the items from 0 till 3\n",
        "#print(dir(fruits)) #lists valid attributes\n",
        "#print(len(fruits)) # it shows the length of the lists\n",
        "#print(\"apple\" in fruits) #it checks whether that item is in lists its gives boolean value\n",
        "#fruits[0] = \"mango\"  # to chnage the list values\n",
        "fruits.append(\"mango\") # to add an element at the end of the lists\n",
        "fruits.remove(\"mango\") # to remove an item from the list\n",
        "fruits.insert(0, \"mango\") # it add another value in the list\n",
        "#fruits.sort() # it sorts from alphabatical orders\n",
        "#fruits.reverse() # to reverse the lists not an alphabetical order the order which we placed them\n",
        "#if we want to reverse in alphabetical order first sort then reverse the lists\n",
        "#fruits.clear() # to clear all the lists\n",
        "#print(fruits.index(\"apple\"))  # TO list the index of the list item\n",
        "print(fruits.count(\"banana\"))\n",
        "\n",
        "for fruit in fruits:\n",
        "\tprint(fruit, end=\", \")"
      ],
      "metadata": {
        "colab": {
          "base_uri": "https://localhost:8080/"
        },
        "collapsed": true,
        "id": "xuio3fLruClO",
        "outputId": "f3d185a4-046b-4fbb-a47c-ae25c286b709"
      },
      "execution_count": 46,
      "outputs": [
        {
          "output_type": "stream",
          "name": "stdout",
          "text": [
            "1\n",
            "mango, orange, banana, pineapple, apple, strawberry, "
          ]
        }
      ]
    },
    {
      "cell_type": "code",
      "source": [
        "#SETS Set = {} unordered and immutable, but add/remove OK. No duplicate\n",
        "\n",
        "\n",
        "fruits = {\"orange\", \"banana\", \"pineapple\", \"apple\", \"strawberry\"}\n",
        "\n",
        "#print(help(fruits)) # it will show all the functions that we can executes in lists\n",
        "#print(dir(fruits)) #lists valid attributes\n",
        "#print(len(fruits)) # it shows the length of the lists\n",
        "#print(fruits[0:3]) # We cant use indexing in sets it will give type error\n",
        "#fruits.add(\"mango\") # we are adding mango to the sets\n",
        "#fruits.remove(\"apple\") # we are removing apple from sets fruits\n",
        "print(\"apple\" in fruits) #it checks whether that item is in lists its gives boolean value\n",
        "#fruits.pop() # remove one item from the sets cant say which one\n",
        "#fruits.clear() #to clear all the iteams in the fruits\n",
        "print(fruits)"
      ],
      "metadata": {
        "colab": {
          "base_uri": "https://localhost:8080/"
        },
        "id": "qrwW4ACmvl3X",
        "outputId": "d92eeaa8-3914-459e-cb19-06881619b565"
      },
      "execution_count": 67,
      "outputs": [
        {
          "output_type": "stream",
          "name": "stdout",
          "text": [
            "True\n",
            "set()\n"
          ]
        }
      ]
    },
    {
      "cell_type": "code",
      "source": [
        "#TUPLE\tTuple = () ordered and unchangeable. Duplicates OK. Faster\n",
        "\n",
        "fruits = (\"orange\", \"banana\", \"pineapple\", \"apple\", \"strawberry\")\n",
        "#print(help(fruits)) # it will show all the functions that we can executes in lists\n",
        "#print(dir(fruits)) #lists valid attributes\n",
        "#print(len(fruits)) # it shows the length of the lists\n",
        "#print(\"pineapple\" in fruits) ##it checks whether that item is in lists its gives boolean value\n",
        "#print(fruits.index(\"apple\")) # it will show the index value\n",
        "print(fruits.count(\"orange\")) # it counts the values as duplicates are OK in Tuples\n",
        "#this are iterable can use for loop\n",
        "\n",
        "print(fruits)\n",
        "for x in fruits:\n",
        "  print(x, end=\" \")\n",
        "\n",
        "\n"
      ],
      "metadata": {
        "colab": {
          "base_uri": "https://localhost:8080/"
        },
        "id": "KSW5OELiGVzA",
        "outputId": "691b9e17-8926-45f0-b857-ce7771bc63af"
      },
      "execution_count": 75,
      "outputs": [
        {
          "output_type": "stream",
          "name": "stdout",
          "text": [
            "1\n",
            "('orange', 'banana', 'pineapple', 'apple', 'strawberry')\n",
            "orange banana pineapple apple strawberry "
          ]
        }
      ]
    },
    {
      "cell_type": "markdown",
      "source": [],
      "metadata": {
        "id": "QGV8qabb0qoT"
      }
    },
    {
      "cell_type": "code",
      "source": [
        "foods = []\n",
        "prices = []\n",
        "total = 0\n",
        "\n",
        "while True:\n",
        "  food = input(\"Enter the food to buy (Press q to exit) :\")\n",
        "  if food.lower() == \"q\":\n",
        "      break\n",
        "  else:\n",
        "    price = float(input(\"Enter the proce of the food in $ :\"))\n",
        "    foods.append(food)\n",
        "    prices.append(price)\n",
        "\n",
        "print(\"----------Your Cart-------------------- \")\n",
        "for food in foods:\n",
        "  print(food, end=\", \")\n",
        "\n",
        "for price in prices:\n",
        "  total = total + price\n",
        "print()\n",
        "\n",
        "for price in prices:\n",
        "  print(f\"${price}\", end=\", \")\n",
        "print()\n",
        "print(f\"Your Total Price is ${total}\")\n",
        "\n",
        "\n"
      ],
      "metadata": {
        "colab": {
          "base_uri": "https://localhost:8080/"
        },
        "id": "vHCc2wpeKE3_",
        "outputId": "a2286d12-9848-42a6-82b5-e82be4f199b1"
      },
      "execution_count": 91,
      "outputs": [
        {
          "output_type": "stream",
          "name": "stdout",
          "text": [
            "Enter the food to buy (Press q to exit) :Pizza\n",
            "Enter the proce of the food in $ :5.99\n",
            "Enter the food to buy (Press q to exit) :Hamburger\n",
            "Enter the proce of the food in $ :23.12\n",
            "Enter the food to buy (Press q to exit) :Chicken\n",
            "Enter the proce of the food in $ :23.12\n",
            "Enter the food to buy (Press q to exit) :Ice Cream\n",
            "Enter the proce of the food in $ :12.22\n",
            "Enter the food to buy (Press q to exit) :q\n",
            "----------Your Cart-------------------- \n",
            "Pizza, Hamburger, Chicken, Ice Cream, \n",
            "$5.99, $23.12, $23.12, $12.22, \n",
            "Your Total Price is $64.45\n"
          ]
        }
      ]
    },
    {
      "cell_type": "code",
      "source": [],
      "metadata": {
        "id": "B4pK4zHYKWfd"
      },
      "execution_count": null,
      "outputs": []
    }
  ],
  "metadata": {
    "colab": {
      "provenance": [],
      "authorship_tag": "ABX9TyP0PYILXLqhi7tegVAQE4QJ",
      "include_colab_link": true
    },
    "kernelspec": {
      "display_name": "Python 3",
      "name": "python3"
    },
    "language_info": {
      "name": "python"
    }
  },
  "nbformat": 4,
  "nbformat_minor": 0
}