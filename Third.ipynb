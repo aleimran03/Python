{
 "cells": [
  {
   "cell_type": "code",
   "execution_count": 2,
   "id": "99a05edf-8b69-48f1-ab93-5a330ad2715e",
   "metadata": {},
   "outputs": [
    {
     "name": "stdout",
     "output_type": "stream",
     "text": [
      " Please press 1 to 5\n",
      "1 - Area\n",
      "2 - Triangle area\n",
      "3 - Trapezium area\n",
      "4 - Displacement area\n",
      "5 - Equal Roots\n"
     ]
    },
    {
     "name": "stdin",
     "output_type": "stream",
     "text": [
      "Enter the Option you want to select : 4\n"
     ]
    },
    {
     "name": "stdout",
     "output_type": "stream",
     "text": [
      "Welcome to Displacement area Calculator\n"
     ]
    },
    {
     "name": "stdin",
     "output_type": "stream",
     "text": [
      "Please enter the final velocity (v in m/s):  23\n",
      "Please enter the initial velocity (u in m/s):  22\n",
      "Please enter the acceleration (a in m/s²):  25\n"
     ]
    },
    {
     "name": "stdout",
     "output_type": "stream",
     "text": [
      "The displacements is: 0.9\n"
     ]
    }
   ],
   "source": [
    " \"\"\"Area = length * breadth\n",
    "Triangle area = 1/2 *b * h (0.5 * b* h)\n",
    "Trapezium area = (a+b)/2 * h\n",
    "Displacement area = d = (v**2 - u**2) / (2*a)\n",
    "Equal Roots = r = -b / (2**a)\"\"\"\n",
    "\n",
    "print(\" Please press 1 to 5\")\n",
    "print(\"1 - Area\\n2 - Triangle area\\n3 - Trapezium area\\n4 - Displacement area\\n5 - Equal Roots\")\n",
    "options = int(input(\"Enter the Option you want to select :\"))\n",
    "if options == 1:\n",
    "     print(\"Welcome to area Calculator\")\n",
    "     length = float(input(\"Please Enter the length of the area :\"))\n",
    "     breadth = float(input(\"Please Enter the breadth of the area :\"))\n",
    "     area = length * breadth\n",
    "     print(\"The total area is:\", area)\n",
    "elif options == 2:\n",
    "    print(\"Welcome to Triangle area Calculator\")\n",
    "    base = float(input(\"Please Enter the base of the triangle: \"))\n",
    "    height = float(input(\"Please Enter the height of the triangle: \"))\n",
    "    area = 0.5 * base * height\n",
    "    print(\"The total area of the triangle is:\", area)\n",
    "elif options == 3:\n",
    "    print(\"Welcome to Trapezium area Calculator\")\n",
    "    base1 = float(input(\"Please Enter the length of the first base of the trapezium: \"))\n",
    "    base2 = float(input(\"Please Enter the length of the second base of the trapezium: \"))\n",
    "    height = float(input(\"Please Enter the height of the trapezium: \"))\n",
    "    area = (base1 + base2) / 2 * height\n",
    "    print(\"The total area of the Trapezium area:\", area)\n",
    "elif options == 4:\n",
    "    print(\"Welcome to Displacement area Calculator\")\n",
    "    v = float(input(\"Please enter the final velocity (v in m/s): \"))\n",
    "    u = float(input(\"Please enter the initial velocity (u in m/s): \"))\n",
    "    a = float(input(\"Please enter the acceleration (a in m/s²): \"))\n",
    "    displacement = (v**2 - u**2) / (2 * a)\n",
    "    print(\"The displacements is:\", displacement )\n",
    "elif options == 5:\n",
    "    print(\"Welcome to Equal Roots Calculator\")\n",
    "    a = float(input(\"Please enter the coefficient a: \"))\n",
    "    b = float(input(\"Please enter the coefficient b: \"))\n",
    "    c = float(input(\"Please enter the coefficient c: \"))\n",
    "    discriminant = b**2 - 4*a*c\n",
    "    if discriminant == 0:\n",
    "        print(\"The roots are equal.\")\n",
    "    else:\n",
    "        print(\"The roots are not equal.\")\n",
    "else:\n",
    "    print(\"You have selected an invalid option.\")\n",
    "\n"
   ]
  },
  {
   "cell_type": "code",
   "execution_count": null,
   "id": "ad1bd56d-cbcd-4ce7-a751-cd47a60c0dd5",
   "metadata": {},
   "outputs": [],
   "source": []
  },
  {
   "cell_type": "code",
   "execution_count": null,
   "id": "61a5edfb-74a4-4f32-8bdc-a7a3792fc2b9",
   "metadata": {},
   "outputs": [],
   "source": []
  }
 ],
 "metadata": {
  "kernelspec": {
   "display_name": "Python 3 (ipykernel)",
   "language": "python",
   "name": "python3"
  },
  "language_info": {
   "codemirror_mode": {
    "name": "ipython",
    "version": 3
   },
   "file_extension": ".py",
   "mimetype": "text/x-python",
   "name": "python",
   "nbconvert_exporter": "python",
   "pygments_lexer": "ipython3",
   "version": "3.12.7"
  }
 },
 "nbformat": 4,
 "nbformat_minor": 5
}
