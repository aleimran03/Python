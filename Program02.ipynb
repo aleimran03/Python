{
  "nbformat": 4,
  "nbformat_minor": 0,
  "metadata": {
    "colab": {
      "provenance": [],
      "authorship_tag": "ABX9TyOupa3kus9OhrgIQml3y1Bx",
      "include_colab_link": true
    },
    "kernelspec": {
      "name": "python3",
      "display_name": "Python 3"
    },
    "language_info": {
      "name": "python"
    }
  },
  "cells": [
    {
      "cell_type": "markdown",
      "metadata": {
        "id": "view-in-github",
        "colab_type": "text"
      },
      "source": [
        "<a href=\"https://colab.research.google.com/github/muhammedimrans/Python/blob/main/Program02.ipynb\" target=\"_parent\"><img src=\"https://colab.research.google.com/assets/colab-badge.svg\" alt=\"Open In Colab\"/></a>"
      ]
    },
    {
      "cell_type": "code",
      "execution_count": 4,
      "metadata": {
        "colab": {
          "base_uri": "https://localhost:8080/"
        },
        "id": "JQNurc_fVxqq",
        "outputId": "1db1bccb-63ee-4844-cae1-b6ad25ac37b9"
      },
      "outputs": [
        {
          "output_type": "stream",
          "name": "stdout",
          "text": [
            "['celery', 'carrot', 'potatoes']\n",
            "orange\n",
            "apple orange banana coconut \n",
            "celery carrot potatoes \n",
            "chicken fish turkey \n"
          ]
        }
      ],
      "source": [
        "#2D lists --> Lists made up of lists\n",
        "#Lists Example\n",
        "\n",
        "fruits = [\"apple\", \"orange\", \"banana\", \"coconut\"]\n",
        "vegetables = [\"celery\", \"carrot\", \"potatoes\",]\n",
        "meats = [\"chicken\", \"fish\", \"turkey\",]\n",
        "\n",
        "groceries = [fruits, vegetables, meats]\n",
        "\n",
        "#groceries = [[\"apple\", \"orange\", \"banana\", \"coconut\"],[\"celery\", \"carrot\", \"potatoes\",],[\"chicken\", \"fish\", \"turkey\",]]  --> It can work like this too\n",
        "\n",
        "print(groceries[1])\n",
        "print(groceries[0][1])\n",
        "\n",
        "for collection in groceries:\n",
        "\tfor food in collection:\n",
        "\t\tprint(food, end=\" \")\n",
        "\tprint()"
      ]
    },
    {
      "cell_type": "code",
      "source": [
        "#Creating a 2 Dimensional Keypad using nested for statement\n",
        "\n",
        "for x in range(1, 4):\n",
        "  print(x, end=\" \")\n",
        "else:\n",
        "  print()\n",
        "for y in range(4, 7):\n",
        "  print(y, end=\" \")\n",
        "else:\n",
        "  print()\n",
        "for z in range(7, 10):\n",
        "  print(z, end=\" \")\n",
        "else:\n",
        "  print()\n",
        "print(\"* 0 #\")\n"
      ],
      "metadata": {
        "colab": {
          "base_uri": "https://localhost:8080/"
        },
        "id": "6tOHmHyrY68Z",
        "outputId": "cb8a8517-c447-434a-8a75-181c83ec7101"
      },
      "execution_count": 14,
      "outputs": [
        {
          "output_type": "stream",
          "name": "stdout",
          "text": [
            "1 2 3 \n",
            "4 5 6 \n",
            "7 8 9 \n",
            "* 0 #\n"
          ]
        }
      ]
    },
    {
      "cell_type": "code",
      "source": [
        "#2D numpad using Tuples\n",
        "numpad = ((1, 2, 3), (4, 5, 6), (7, 8, 9), (\"*\", 0, \"#\"))\n",
        "\n",
        "for row in numpad:\n",
        "  for column in row:\n",
        "    print(column, end=\" \")\n",
        "  print()"
      ],
      "metadata": {
        "colab": {
          "base_uri": "https://localhost:8080/"
        },
        "id": "eux78Kdsak8C",
        "outputId": "36d3a73f-b8ca-462c-f195-012ed11253e1"
      },
      "execution_count": 18,
      "outputs": [
        {
          "output_type": "stream",
          "name": "stdout",
          "text": [
            "1 2 3 \n",
            "4 5 6 \n",
            "7 8 9 \n",
            "* 0 # \n"
          ]
        }
      ]
    },
    {
      "cell_type": "code",
      "source": [
        "#Quiz Game in Python\n",
        "\n",
        "questions = (\"How many Elements are in periodic table?: \",\n",
        "\"Which animal lays the largest eggs?: \",\n",
        "\"What is the most abundant gas in Earth's atmosphere?: \",\n",
        "\"How many bones are in the human body?: \",\n",
        "\"Which planet in the solar system is the hottest?: \")\n",
        "\n",
        "options = ((\"A. 116 \", \"B. 117 \", \"C. 118\", \"D. 119 \"),\n",
        "(\"A. Whale \", \"B. Crocodile\", \"C. Elephant\", \"D. Ostrich\"),\n",
        "(\"A. Nitrogen\", \"B. Oxygen\", \"C. Carbon-Dioxide\", \"D. Hydrogen\"),\n",
        "(\"A. 206\", \"B. 207\", \"C. 208 \", \"D. 209\"),\n",
        "(\"A. Mercury\", \"B. Venus \", \"C. Earth\", \"D. Mars\"))\n",
        "\n",
        "answer = (\"C\", \"D\", \"A\", \"A\", \"B\")\n",
        "guesses = []\n",
        "score = 0\n",
        "question_num = 0\n",
        "\n",
        "for question in questions:\n",
        "\tprint(\"-----------------------------------------------------------\")\n",
        "\tprint(question)\n",
        "\tfor option in options[question_num]:\n",
        "\t\tprint(option)\n",
        "\n",
        "\tguess = input(\"Enter (A, B, C, D): \").upper()\n",
        "\tguesses.append(guess)\n",
        "\tif guess == answer[question_num]:\n",
        "\t\tscore += 1\n",
        "\t\tprint(\"CORRECT\")\n",
        "\telse:\n",
        "\t\tprint(\"INCORRECT\")\n",
        "\t\tprint(f\"{answer[question_num]} is the correct answer\")\n",
        "\tquestion_num += 1\n",
        "\n",
        "print( \"-----------------------------------------------------------\")\n",
        "print(\"                       RESULTS                       \")\n",
        "print(\"-----------------------------------------------------------\")\n",
        "\n",
        "print(\"answers: \", end=\"\")\n",
        "for ans in answer:\n",
        "\tprint(ans, end=\" \")\n",
        "print()\n",
        "\n",
        "print(\"guesses: \", end=\"\")\n",
        "for guess in guesses:\n",
        "\tprint(guess, end=\" \")\n",
        "print()\n",
        "\n",
        "score = int(score / len(questions) * 100)\n",
        "print(f\"Your score is: {score}%\")\n",
        "\n",
        "print(\"-----------------------------------------------------------\")\n"
      ],
      "metadata": {
        "colab": {
          "base_uri": "https://localhost:8080/"
        },
        "id": "mGLt-amvcRha",
        "outputId": "26e3a518-69c7-46f4-a3a3-40c27a260f22"
      },
      "execution_count": 24,
      "outputs": [
        {
          "output_type": "stream",
          "name": "stdout",
          "text": [
            "-----------------------------------------------------------\n",
            "How many Elements are in periodic table?: \n",
            "A. 116 \n",
            "B. 117 \n",
            "C. 118\n",
            "D. 119 \n",
            "Enter (A, B, C, D): D\n",
            "INCORRECT\n",
            "C is the correct answer\n",
            "-----------------------------------------------------------\n",
            "Which animal lays the largest eggs?: \n",
            "A. Whale \n",
            "B. Crocodile\n",
            "C. Elephant\n",
            "D. Ostrich\n",
            "Enter (A, B, C, D): D\n",
            "CORRECT\n",
            "-----------------------------------------------------------\n",
            "What is the most abundant gas in Earth's atmosphere?: \n",
            "A. Nitrogen\n",
            "B. Oxygen\n",
            "C. Carbon-Dioxide\n",
            "D. Hydrogen\n",
            "Enter (A, B, C, D): A\n",
            "CORRECT\n",
            "-----------------------------------------------------------\n",
            "How many bones are in the human body?: \n",
            "A. 206\n",
            "B. 207\n",
            "C. 208 \n",
            "D. 209\n",
            "Enter (A, B, C, D): A\n",
            "CORRECT\n",
            "-----------------------------------------------------------\n",
            "Which planet in the solar system is the hottest?: \n",
            "A. Mercury\n",
            "B. Venus \n",
            "C. Earth\n",
            "D. Mars\n",
            "Enter (A, B, C, D): B\n",
            "CORRECT\n",
            "-----------------------------------------------------------\n",
            "                       RESULTS                       \n",
            "-----------------------------------------------------------\n",
            "answers: C D A A B \n",
            "guesses: D D A A B \n",
            "Your score is: 80%\n",
            "-----------------------------------------------------------\n"
          ]
        }
      ]
    }
  ]
}