{
  "nbformat": 4,
  "nbformat_minor": 0,
  "metadata": {
    "colab": {
      "provenance": [],
      "authorship_tag": "ABX9TyMeQ9o6gyMWdhhpDBxv6mE4"
    },
    "kernelspec": {
      "name": "python3",
      "display_name": "Python 3"
    },
    "language_info": {
      "name": "python"
    }
  },
  "cells": [
    {
      "cell_type": "code",
      "execution_count": null,
      "metadata": {
        "colab": {
          "base_uri": "https://localhost:8080/"
        },
        "id": "hwZsEojIufGb",
        "outputId": "c0c9e784-23f7-411d-8752-f35fb0c34c6c"
      },
      "outputs": [
        {
          "output_type": "stream",
          "name": "stdout",
          "text": [
            "Happy Birthday to Imran..!\n",
            "You are 29 years old\n",
            "hope you have  a great future ahead\n",
            "Happy Birthday to Ameen..!\n",
            "You are 29 years old\n",
            "hope you have  a great future ahead\n",
            "Happy Birthday to Suhaib..!\n",
            "You are 29 years old\n",
            "hope you have  a great future ahead\n"
          ]
        }
      ],
      "source": [
        "#function = A block of reusable code\n",
        "#\t\tplace () after the function name to invoke it\n",
        "\n",
        "def happy_birthday(name, age): #it starts with def and to call the function we have to invoke it with ()\n",
        "\tprint(f\"Happy Birthday to {name}..!\")\n",
        "\tprint(f\"You are {age} years old\")\n",
        "\tprint(\"hope you have  a great future ahead\")\n",
        "\n",
        "\n",
        "happy_birthday(\"Imran\", 29)\n",
        "happy_birthday(\"Ameen\", 29)\n",
        "happy_birthday(\"Suhaib\", 29)\n"
      ]
    },
    {
      "cell_type": "code",
      "source": [
        "def display_invoice(username, amount, due_date):\n",
        "  print(f\"Hello {username}, How are you...!\")\n",
        "  print(f\"You Total bill is ${amount:.2f} and Due date is {due_date}\")\n",
        "  print()\n",
        "\n",
        "display_invoice(\"Mohammed\", 420, \"01st  Jan\")"
      ],
      "metadata": {
        "colab": {
          "base_uri": "https://localhost:8080/"
        },
        "id": "gPFmXbi69CPr",
        "outputId": "3530cfa0-e95f-4859-8826-df37e12b6ac2"
      },
      "execution_count": null,
      "outputs": [
        {
          "output_type": "stream",
          "name": "stdout",
          "text": [
            "Hello Mohammed, How are you...!\n",
            "You Total bill is $420.00 and Due date is 01st  Jan\n",
            "\n"
          ]
        }
      ]
    },
    {
      "cell_type": "code",
      "source": [
        "#return = statement used to end a function\n",
        "#\t\tand send the result back to the caller\n",
        "\n",
        "def add(x, y):\n",
        "\tz = x + y\n",
        "\treturn z\n",
        "\n",
        "def subtract(x, y):\n",
        "\tz = x - y\n",
        "\treturn z\n",
        "\n",
        "def multiply(x, y):\n",
        "\tz = x * y\n",
        "\treturn z\n",
        "\n",
        "def divide(x, y):\n",
        "\tz = x / y\n",
        "\treturn z\n",
        "\n",
        "print(add(1, 2))\n",
        "print(subtract(1, 2))\n",
        "print(multiply(1, 2))\n",
        "print(divide(1, 2))\n",
        "\n"
      ],
      "metadata": {
        "colab": {
          "base_uri": "https://localhost:8080/"
        },
        "id": "iOvx1xhV0vLC",
        "outputId": "9340fa9c-61c8-4c99-a137-7ce89a3f3ef8"
      },
      "execution_count": 1,
      "outputs": [
        {
          "output_type": "stream",
          "name": "stdout",
          "text": [
            "3\n",
            "-1\n",
            "2\n",
            "0.5\n"
          ]
        }
      ]
    },
    {
      "cell_type": "code",
      "source": [
        "def create_name(first, last):\n",
        "\tfirst = first.capitalize()\n",
        "\tlast = last.capitalize()\n",
        "\treturn first + \" \" + last\n",
        "\n",
        "full_name = create_name(\"big\", \"bro\")\n",
        "print(full_name)"
      ],
      "metadata": {
        "colab": {
          "base_uri": "https://localhost:8080/"
        },
        "id": "MivIq_OiD765",
        "outputId": "6cb25607-6b6e-42be-ae70-09db22be878f"
      },
      "execution_count": 8,
      "outputs": [
        {
          "output_type": "stream",
          "name": "stdout",
          "text": [
            "Big Bro\n"
          ]
        }
      ]
    },
    {
      "cell_type": "code",
      "source": [
        "\n",
        "# default argument = A default value for certain parameters\n",
        "#\t\t\tdefault is used when that argument is omitted\n",
        "#\t\t\tmake your functions more flexible, reduces # of arguments\n",
        "#\t\t\t1. positional, 2. DEFAULT, 3. keyword, 4. arbitrary\n",
        "\n",
        "def net_price(list_price, discount=0, tax=0.05):  # here we are using default arguments in functions\n",
        "  return list_price * (1 - discount) * (1 + tax)\n",
        "\n",
        "print(net_price(500)) # here we are suing default values\n",
        "print(net_price(450, 0.1)) # here we are using discount value it will run without errors\n",
        "print(net_price(500, 0.1, 0.05)) #here we are using all teh values\n",
        "\n",
        "#If we have not declared an default value in the functions then we have to mention while calling the function or\n",
        "#else it will give error\n",
        "\n",
        "\n"
      ],
      "metadata": {
        "colab": {
          "base_uri": "https://localhost:8080/"
        },
        "id": "ef-kcT-ZGagV",
        "outputId": "cdafb720-5862-4382-e542-63183003a0c4"
      },
      "execution_count": 13,
      "outputs": [
        {
          "output_type": "stream",
          "name": "stdout",
          "text": [
            "525.0\n",
            "425.25\n",
            "472.5\n"
          ]
        }
      ]
    },
    {
      "cell_type": "code",
      "source": [
        "import time\n",
        "\n",
        "def count(end, start =0):  # here the default value should come last or else program will give error\n",
        "  for x in range(start, end + 1):\n",
        "    print(x)\n",
        "    time.sleep(1)\n",
        "  print(\"DONE..!\")\n",
        "\n",
        "count(5)"
      ],
      "metadata": {
        "colab": {
          "base_uri": "https://localhost:8080/"
        },
        "id": "RwtoZKJbKECR",
        "outputId": "41ac84fa-410f-4827-a93a-46dfa50bc03b"
      },
      "execution_count": 18,
      "outputs": [
        {
          "output_type": "stream",
          "name": "stdout",
          "text": [
            "0\n",
            "1\n",
            "2\n",
            "3\n",
            "4\n",
            "5\n",
            "DONE..!\n"
          ]
        }
      ]
    },
    {
      "cell_type": "code",
      "source": [
        "#Keyword Argument\n",
        "\n",
        "#Positioning comes first as \"greeting\" = \"hello\" then we can assign the other keywords and arguments\n",
        "\n",
        "def new(greeting, title, first, last):\n",
        "  print(f\"{greeting} {title}{first} {last}\")\n",
        "\n",
        "new(\"Hello\", \"Mr.\", \"Mohammed\", \"Imran\")\n",
        "new(\"Hello\", \"Mr.\", last=\"Imran\", first=\"Mohammed\")\n",
        "\n",
        "print(\"1\", \"2\", \"3\", \"4\", \"5\", \"6\", sep=\"---\") #Separate keyword can be used in print function\n",
        "\n",
        "def phone_number(country, state, city, company):\n",
        "  print(f\"{country} {state} {city} {company}\")\n",
        "\n",
        "phone_number(country= \"India\", city = \"Bangalore\", state = \"Karnataka\", company = \"TCS\")"
      ],
      "metadata": {
        "colab": {
          "base_uri": "https://localhost:8080/"
        },
        "id": "-WguBkH8WI4v",
        "outputId": "5a205224-0f37-4410-f679-ff90d762a3c2"
      },
      "execution_count": 28,
      "outputs": [
        {
          "output_type": "stream",
          "name": "stdout",
          "text": [
            "Hello Mr.Mohammed Imran\n",
            "Hello Mr.Mohammed Imran\n",
            "1---2---3---4---5---6\n",
            "India Karnataka Bangalore TCS\n"
          ]
        }
      ]
    },
    {
      "cell_type": "code",
      "source": [
        "from os import O_LARGEFILE\n",
        "#ARBITRARY Arguments\n",
        "\n",
        "# *args\t= allows you to pass multiple non-key arguments\n",
        "# **kwargs = allows you to pass multiple keyword- arguments\n",
        "#\t\t*unpacking operator\n",
        "\n",
        "#def add(*nums): #here we are using *args we can chnage the name too(ARBITRARY Arguments\n",
        "def add(*args): #here we are using *args we can chnage the name too(ARBITRARY Arguments)\n",
        "  total = 0\n",
        "  for arg in args:\n",
        "    total += arg\n",
        "  return total\n",
        "\n",
        "print(add(1, 2, 3, 4, 5, 6, 7, 8, 9, 10))\n",
        "\n",
        "def display_name(*args):\n",
        "  for arg in args:\n",
        "    print(arg, end=\" \")\n",
        "\n",
        "display_name(\"Dr\", \"Spongbob\", \"Harold\", \"Squarepant\", \"|||\")\n"
      ],
      "metadata": {
        "colab": {
          "base_uri": "https://localhost:8080/"
        },
        "id": "_Js_EdzTaMv9",
        "outputId": "10dfa024-0460-485d-8295-7b47c2e70647"
      },
      "execution_count": 36,
      "outputs": [
        {
          "output_type": "stream",
          "name": "stdout",
          "text": [
            "55\n",
            "Dr Spongbob Harold Squarepant ||| "
          ]
        }
      ]
    },
    {
      "cell_type": "code",
      "source": [
        "def print_address(**kwargs):\n",
        "\tfor key, value in kwargs.items():\n",
        "\t\tprint(f\"{key:8}: {value}\")\n",
        "\n",
        "print_address(street = \"Whitefield\",\n",
        "              Area = \"Bangalore\",\n",
        "              city = \"Bangalore\",\n",
        "              state = \"Karnataka\",\n",
        "              country = \"India\")\n"
      ],
      "metadata": {
        "colab": {
          "base_uri": "https://localhost:8080/"
        },
        "id": "6E3hMhcImLqA",
        "outputId": "b63aa205-d972-4a9b-cf06-6792c4b0eedb"
      },
      "execution_count": 43,
      "outputs": [
        {
          "output_type": "stream",
          "name": "stdout",
          "text": [
            "street  : Whitefield\n",
            "Area    : Bangalore\n",
            "city    : Bangalore\n",
            "state   : Karnataka\n",
            "country : India\n"
          ]
        }
      ]
    },
    {
      "cell_type": "code",
      "source": [
        "#*args and *kwargs in functions\n",
        "\n",
        "def details(*args, **kwargs):\n",
        "  for arg in args:\n",
        "    print(arg, end= \" \")\n",
        "  print()\n",
        "  for value in kwargs.values():\n",
        "    print(f\"{value}\", end =\" \")\n",
        "  print()\n",
        "  print(f\"{kwargs.get('street')}\")\n",
        "  print(f\"{kwargs.get('city')}\")\n",
        "  print(f\"{kwargs.get('state')}\")\n",
        "  print(f\"{kwargs.get('country')}\")\n",
        "\n",
        "\n",
        "details(\"Mohammed\", \"Imran\", street = \"Whitefield\", Area = \"Bangalore\", city = \"Bangalore\", state = \"Karnataka\", country = \"India\")"
      ],
      "metadata": {
        "colab": {
          "base_uri": "https://localhost:8080/"
        },
        "id": "4_0b43Ten87W",
        "outputId": "b3cce93c-02a2-46a8-f14a-87b9bc4ae092"
      },
      "execution_count": 55,
      "outputs": [
        {
          "output_type": "stream",
          "name": "stdout",
          "text": [
            "Mohammed Imran \n",
            "Whitefield Bangalore Bangalore Karnataka India \n",
            "Whitefield\n",
            "Bangalore\n",
            "Karnataka\n",
            "India\n"
          ]
        }
      ]
    },
    {
      "cell_type": "code",
      "source": [
        "#Iterable\n",
        "#Iterables = An object/collection that can return its elements one at a time,\n",
        "#\t\tallowing it to be iterated over the loop\n",
        "\n",
        "numbers = [1, 2, 3, 4, 5]\n",
        "#for number in reversed(numbers):  #it prints reversed\n",
        "for blablabla in numbers:\n",
        "  print(blablabla, end= \"- -\")"
      ],
      "metadata": {
        "colab": {
          "base_uri": "https://localhost:8080/"
        },
        "id": "5bUOa106z8tH",
        "outputId": "3975a3c1-fd42-4762-89c0-d329197a8ab7"
      },
      "execution_count": 61,
      "outputs": [
        {
          "output_type": "stream",
          "name": "stdout",
          "text": [
            "1- -2- -3- -4- -5- -"
          ]
        }
      ]
    }
  ]
}