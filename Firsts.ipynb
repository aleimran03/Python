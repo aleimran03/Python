{
 "cells": [
  {
   "cell_type": "code",
   "execution_count": 2,
   "id": "f11ea168-74c7-4712-a740-7808ad51547b",
   "metadata": {},
   "outputs": [
    {
     "data": {
      "text/plain": [
       "2"
      ]
     },
     "execution_count": 2,
     "metadata": {},
     "output_type": "execute_result"
    }
   ],
   "source": [
    "1 + 1"
   ]
  },
  {
   "cell_type": "code",
   "execution_count": 4,
   "id": "ba55a050-d316-44fe-9442-43184f45e948",
   "metadata": {},
   "outputs": [
    {
     "name": "stdout",
     "output_type": "stream",
     "text": [
      "Hello World\n",
      "the value of total cost is  36\n"
     ]
    }
   ],
   "source": [
    "print(\"Hello World\")\n",
    "x = 13\n",
    "y = 23\n",
    "print (\"the value of total cost is \", x+y )\n"
   ]
  },
  {
   "cell_type": "code",
   "execution_count": 5,
   "id": "bb265404-8a4c-493b-8111-775fa401734a",
   "metadata": {},
   "outputs": [
    {
     "name": "stdout",
     "output_type": "stream",
     "text": [
      "jack\n",
      "Angela\n"
     ]
    },
    {
     "name": "stdin",
     "output_type": "stream",
     "text": [
      "what is your name? Mohammed\n"
     ]
    },
    {
     "name": "stdout",
     "output_type": "stream",
     "text": [
      "8\n"
     ]
    },
    {
     "name": "stdin",
     "output_type": "stream",
     "text": [
      "what is your name: Mohammed\n"
     ]
    },
    {
     "name": "stdout",
     "output_type": "stream",
     "text": [
      "8\n"
     ]
    }
   ],
   "source": [
    "name = \"jack\"\n",
    "print(name)\n",
    "\n",
    "name = \"Angela\"\n",
    "print(name)\n",
    "print(len(input(\"what is your name?\")))\n",
    "\n",
    "name = input(\"what is your name:\")\n",
    "print(len(name))"
   ]
  },
  {
   "cell_type": "code",
   "execution_count": 6,
   "id": "f1861d8f-dd6f-4e03-b453-abdb0aacf879",
   "metadata": {},
   "outputs": [
    {
     "name": "stdin",
     "output_type": "stream",
     "text": [
      "what is your name: Mohammed Imran\n"
     ]
    },
    {
     "name": "stdout",
     "output_type": "stream",
     "text": [
      "Mohammed Imran\n",
      "your length of name is 14\n"
     ]
    }
   ],
   "source": [
    "name = input(\"what is your name:\")\n",
    "print(name)\n",
    "print(\"your length of name is\",  len(name))"
   ]
  },
  {
   "cell_type": "code",
   "execution_count": 8,
   "id": "74d8a014-8eef-4573-97d7-7630bca25859",
   "metadata": {},
   "outputs": [
    {
     "name": "stdout",
     "output_type": "stream",
     "text": [
      "ice milk\n"
     ]
    }
   ],
   "source": [
    "glass1 = \"milk\"\n",
    "glass2 = \"ice\"\n",
    "#changing the variables\n",
    "temp1 = glass1\n",
    "glass1 = glass2\n",
    "glass2 = temp1\n",
    "\n",
    "print((glass1),(glass2))"
   ]
  },
  {
   "cell_type": "code",
   "execution_count": 10,
   "id": "0e76afd5-a417-4e25-b835-618cf72e8a06",
   "metadata": {},
   "outputs": [
    {
     "name": "stdout",
     "output_type": "stream",
     "text": [
      "Welcome to the band name generator\n"
     ]
    },
    {
     "name": "stdin",
     "output_type": "stream",
     "text": [
      "Whats the name of the city you have grew in :\n",
      " Bangalore\n",
      "Whats your Pet name :\n",
      " Dragon\n"
     ]
    },
    {
     "name": "stdout",
     "output_type": "stream",
     "text": [
      "your band name could be Bangalore Dragon\n"
     ]
    }
   ],
   "source": [
    "print(\"Welcome to the band name generator\")\n",
    "name1 = (input(\"Whats the name of the city you have grew in :\\n\"))\n",
    "name2 = ( input(\"Whats your Pet name :\\n\"))\n",
    "print(\"your band name could be\", name1, name2)"
   ]
  },
  {
   "cell_type": "code",
   "execution_count": 11,
   "id": "ec7686c9-db35-46b3-a1de-1ff8ec08a7bf",
   "metadata": {},
   "outputs": [
    {
     "name": "stdout",
     "output_type": "stream",
     "text": [
      "l\n",
      "123234\n",
      "489\n",
      "234255267\n",
      "3.134\n",
      "True\n",
      "False\n"
     ]
    }
   ],
   "source": [
    "print(\"Hello\"[-2]) #Print Hello of Zero Place ( 0 from start and -1 from backwards )\n",
    "print(\"123\" + \"234\") #Concatination of two string\n",
    "print(234 + 255) # Integer equals whole numbers\n",
    "print(234_255_267) #Large integer numbers\n",
    "print(3.134) #Floating point number\n",
    "print(True)\n",
    "print(False) #Boolean Data Type"
   ]
  },
  {
   "cell_type": "code",
   "execution_count": 12,
   "id": "603568bc-25c7-484f-9624-22258ea1d7c6",
   "metadata": {},
   "outputs": [
    {
     "name": "stdout",
     "output_type": "stream",
     "text": [
      "5\n",
      "<class 'str'>\n",
      "<class 'int'>\n",
      "<class 'float'>\n",
      "<class 'bool'>\n"
     ]
    }
   ],
   "source": [
    "print(len(\"Hello\"))\n",
    "print(type(\"Hello\"))\n",
    "print(type(2345))\n",
    "print(type(3.145))\n",
    "print(type(True))"
   ]
  },
  {
   "cell_type": "code",
   "execution_count": 13,
   "id": "d5ff4f08-10b8-4cb0-ab2e-b678b462d2ea",
   "metadata": {},
   "outputs": [
    {
     "name": "stdout",
     "output_type": "stream",
     "text": [
      "456956\n",
      "690\n"
     ]
    }
   ],
   "source": [
    "#Type Conversion\n",
    "\n",
    "print(\"456\" + \"956\")\n",
    "print (int(\"234\") + int(\"456\"))"
   ]
  },
  {
   "cell_type": "code",
   "execution_count": 18,
   "id": "bf5236f4-aeb8-48ed-8030-e5813276e244",
   "metadata": {},
   "outputs": [
    {
     "name": "stdin",
     "output_type": "stream",
     "text": [
      "Enter youe name Mohammed Imran\n"
     ]
    },
    {
     "name": "stdout",
     "output_type": "stream",
     "text": [
      "The words in your name is 14\n",
      "<class 'str'>\n",
      "<class 'int'>\n"
     ]
    }
   ],
   "source": [
    "\n",
    "name = input(\"Enter youe name\")\n",
    "length = len(name)\n",
    "print(\"The words in your name is\" , length)\n",
    "print(type(\"Number of letters in your name\"))\n",
    "print(type(length))"
   ]
  },
  {
   "cell_type": "code",
   "execution_count": 19,
   "id": "b517f19b-f0b5-40d4-a9c3-ecbb46ba40ec",
   "metadata": {},
   "outputs": [
    {
     "name": "stdin",
     "output_type": "stream",
     "text": [
      "Enter your name: Mohammed Salman\n"
     ]
    },
    {
     "name": "stdout",
     "output_type": "stream",
     "text": [
      "<class 'str'>\n",
      "<class 'int'>\n",
      "Number of letters in your name 15\n"
     ]
    }
   ],
   "source": [
    "name = input(\"Enter your name:\")\n",
    "length = len(name)\n",
    "\n",
    "print(type(\"Number of letters in your name\"))\n",
    "print(type(length))\n",
    "\n",
    "print(\"Number of letters in your name\", str(length))"
   ]
  },
  {
   "cell_type": "code",
   "execution_count": 20,
   "id": "4571463d-ac6c-489e-abd1-af9109bff213",
   "metadata": {},
   "outputs": [],
   "source": [
    "#Lists - Mutable values can be changed can chnage the values which we have defined in x\n",
    "x = [10,12,14,16,12]\n",
    "\n",
    "## Tuples - Immutable values cannot be change\n",
    "\n",
    "x = [10,12,14,16,12]"
   ]
  },
  {
   "cell_type": "code",
   "execution_count": 24,
   "id": "c1ccd91a-f9d7-479b-8057-0c3d32a6d5dd",
   "metadata": {},
   "outputs": [
    {
     "name": "stdout",
     "output_type": "stream",
     "text": [
      "23456789046475978346589274628028746\n",
      "40\n"
     ]
    }
   ],
   "source": [
    "#size of which shows how much memory x has taken \n",
    "x = 23456789046475978346589274628028746\n",
    "print(x)\n",
    "print(x.__sizeof__())"
   ]
  },
  {
   "cell_type": "code",
   "execution_count": null,
   "id": "eb7b5f79-a863-42a4-b40f-9e568b9ff78c",
   "metadata": {},
   "outputs": [],
   "source": []
  }
 ],
 "metadata": {
  "kernelspec": {
   "display_name": "Python 3 (ipykernel)",
   "language": "python",
   "name": "python3"
  },
  "language_info": {
   "codemirror_mode": {
    "name": "ipython",
    "version": 3
   },
   "file_extension": ".py",
   "mimetype": "text/x-python",
   "name": "python",
   "nbconvert_exporter": "python",
   "pygments_lexer": "ipython3",
   "version": "3.12.7"
  }
 },
 "nbformat": 4,
 "nbformat_minor": 5
}
