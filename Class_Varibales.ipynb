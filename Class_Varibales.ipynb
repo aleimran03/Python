{
  "nbformat": 4,
  "nbformat_minor": 0,
  "metadata": {
    "colab": {
      "provenance": [],
      "authorship_tag": "ABX9TyOaePeSuIkaA8y0FLuhFbQt",
      "include_colab_link": true
    },
    "kernelspec": {
      "name": "python3",
      "display_name": "Python 3"
    },
    "language_info": {
      "name": "python"
    }
  },
  "cells": [
    {
      "cell_type": "markdown",
      "metadata": {
        "id": "view-in-github",
        "colab_type": "text"
      },
      "source": [
        "<a href=\"https://colab.research.google.com/github/muhammedimrans/Python/blob/main/Class_Varibales.ipynb\" target=\"_parent\"><img src=\"https://colab.research.google.com/assets/colab-badge.svg\" alt=\"Open In Colab\"/></a>"
      ]
    },
    {
      "cell_type": "code",
      "execution_count": 10,
      "metadata": {
        "colab": {
          "base_uri": "https://localhost:8080/"
        },
        "id": "4DqINBQQ5lk-",
        "outputId": "495f4ad8-f564-40f6-da73-275466213986"
      },
      "outputs": [
        {
          "output_type": "stream",
          "name": "stdout",
          "text": [
            "My graduating class of 2025 has 4 Students\n",
            "Alice\n",
            "Bob\n",
            "Spongebob\n",
            "Sala\n"
          ]
        }
      ],
      "source": [
        "#class variables = shared among all instances of a class\n",
        "#                  defined outsode the constructor\n",
        "#                  allow you to share data among all objects created from that class\n",
        "\n",
        "class Car:\n",
        "  wheels = 4 # class variable\n",
        "\n",
        "  def __init__(self, make, model):\n",
        "    self.make = make   #instance variables\n",
        "    self.model = model #instance variables\n",
        "\n",
        "  def __str__(self):\n",
        "    return f\"{self.make} {self.model}\"\n",
        "#Example\n",
        "\n",
        "class Student:\n",
        "\n",
        "  #Class Variable\n",
        "  class_year = 2025\n",
        "  num_students = 0\n",
        "\n",
        "  def __init__(self, name, age):\n",
        "    #instance Variables\n",
        "    self.name = name\n",
        "    self.age = age\n",
        "    Student.num_students += 1\n",
        "\n",
        "student1 = Student(\"Alice\", 20)\n",
        "student2 = Student(\"Bob\", 22)\n",
        "student3 = Student(\"Spongebob\", 27)\n",
        "student4 = Student(\"Sala\", 26)\n",
        "\n",
        "#print(student1.name, student1.age, student1.class_year)\n",
        "#print(student2.name, student2.age, student1.class_year)\n",
        "#print(Student.class_year)  #Accessing directly from class\n",
        "\n",
        "print(f\"My graduating class of {Student.class_year} has {Student.num_students} Students\")\n",
        "print(student1.name)\n",
        "print(student2.name)\n",
        "print(student3.name)\n",
        "print(student4.name)\n",
        "\n",
        "\n"
      ]
    }
  ]
}