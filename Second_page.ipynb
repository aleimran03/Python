{
 "cells": [
  {
   "cell_type": "code",
   "execution_count": 5,
   "id": "a371ea01-2861-460e-a581-56d065167df8",
   "metadata": {},
   "outputs": [
    {
     "name": "stdout",
     "output_type": "stream",
     "text": [
      "12.59 12.590000000000002 12.590000000000002 12.59\n"
     ]
    }
   ],
   "source": [
    "a = 12.59\n",
    "b = 0.1259 * 100\n",
    "c = 0.1259 * 10 ** 2\n",
    "d = 0.1259e2\n",
    "print (a, b, c, d)"
   ]
  },
  {
   "cell_type": "code",
   "execution_count": 18,
   "id": "4bcb536f-fd13-41b9-86cb-0911fc31e8d8",
   "metadata": {},
   "outputs": [
    {
     "name": "stdout",
     "output_type": "stream",
     "text": [
      "1\n",
      "0\n",
      "This is my program and i will write the shit what i want\n",
      "True\n",
      "False\n",
      "<class 'bool'>\n",
      "<class 'bool'>\n"
     ]
    }
   ],
   "source": [
    "#Boolean Data types\n",
    "a = True\n",
    "b = False\n",
    "print(int(a))\n",
    "print(int(b))\n",
    "if (int(a)==0):\n",
    "    print(\"This is not a zero type integer\")\n",
    "else:\n",
    "    print(\"This is my program and i will write the shit what i want\")\n",
    "print(a)\n",
    "print(b)\n",
    "print(type(a))\n",
    "print(type(b))"
   ]
  },
  {
   "cell_type": "code",
   "execution_count": 21,
   "id": "7a30a6fd-fb8c-437b-ac4e-90a2572b0332",
   "metadata": {},
   "outputs": [
    {
     "name": "stdout",
     "output_type": "stream",
     "text": [
      "(3+5j)\n",
      "<class 'complex'>\n"
     ]
    }
   ],
   "source": [
    "#complex data types which we use as i and j\n",
    "x = 3 + 5j\n",
    "print(x)\n",
    "print(type(x))"
   ]
  },
  {
   "cell_type": "code",
   "execution_count": 26,
   "id": "c0c79f9d-c5c0-42c5-bd55-f6090105b9a4",
   "metadata": {},
   "outputs": [
    {
     "name": "stdin",
     "output_type": "stream",
     "text": [
      "Enter the value of a 2\n",
      "Enter the value of b 5\n",
      "Enter the value of c 6\n"
     ]
    },
    {
     "name": "stdout",
     "output_type": "stream",
     "text": [
      "Roots are  (-1.25+1.1989578808281798j) (-1.25-1.1989578808281798j)\n"
     ]
    }
   ],
   "source": [
    "import math #math.sqrt() function works only for positive type value.\n",
    "import cmath # Use cmath to handle complex square roots\n",
    "\n",
    "#Quadratic Equation Formula\n",
    "#The solution or roots of a quadratic equation are given by the quadratic formula:\n",
    "#x = (α, β) = [-b ± √(b2 – 4ac)]/2a\n",
    " \n",
    "a = int(input('Enter the value of a'))\n",
    "b = int(input('Enter the value of b'))\n",
    "c = int(input('Enter the value of c'))\n",
    "root1 = (-b + cmath.sqrt(b**2 - 4 * a * c))/(2 * a) \n",
    "root2 = (-b - cmath.sqrt(b**2 - 4 * a * c))/(2 * a)\n",
    "print('Roots are ', root1, root2)"
   ]
  },
  {
   "cell_type": "code",
   "execution_count": 27,
   "id": "3244f7d7-3ab5-40ae-9dc1-69bf5edff555",
   "metadata": {},
   "outputs": [
    {
     "name": "stdin",
     "output_type": "stream",
     "text": [
      "Enter the value of a:  5\n",
      "Enter the value of b:  6\n",
      "Enter the value of c:  9\n"
     ]
    },
    {
     "name": "stdout",
     "output_type": "stream",
     "text": [
      "Roots are: (-0.6+1.2j) (-0.6-1.2j)\n"
     ]
    }
   ],
   "source": [
    "\n",
    "import cmath  # Use cmath to handle complex square roots\n",
    "\n",
    "# Input coefficients\n",
    "a = int(input('Enter the value of a: '))\n",
    "b = int(input('Enter the value of b: '))\n",
    "c = int(input('Enter the value of c: '))\n",
    "\n",
    "# Calculate the discriminant\n",
    "discriminant = b**2 - 4 * a * c\n",
    "\n",
    "# Calculate the roots using cmath.sqrt() to handle complex results\n",
    "root1 = (-b + cmath.sqrt(discriminant)) / (2 * a)\n",
    "root2 = (-b - cmath.sqrt(discriminant)) / (2 * a)\n",
    "\n",
    "# Print the roots\n",
    "print('Roots are:', root1, root2)\n"
   ]
  },
  {
   "cell_type": "markdown",
   "id": "c88e451f-b361-4dfe-9f35-6b30da683cf7",
   "metadata": {},
   "source": [
    "## Integer Literals IMPORTANT\n"
   ]
  },
  {
   "cell_type": "code",
   "execution_count": 36,
   "id": "54ebe3cc-aada-4f8a-9309-cd038fb1bbc4",
   "metadata": {},
   "outputs": [
    {
     "name": "stdout",
     "output_type": "stream",
     "text": [
      "10 10 10 10\n"
     ]
    }
   ],
   "source": [
    "a = 10\n",
    "b = 0b1010 #b defines boolean number and 1010 is 10\n",
    "c = 0o12 #0 defines octal and 12 is 10\n",
    "d = 0xA #x defines hexadecimal ans A defines 10\n",
    "print(a, b, c, d)\n"
   ]
  },
  {
   "cell_type": "code",
   "execution_count": 43,
   "id": "9e7aa8d8-cfd4-4a1f-90b7-f02caf345d1f",
   "metadata": {},
   "outputs": [
    {
     "name": "stdin",
     "output_type": "stream",
     "text": [
      "Enter the year you have borned : 1995\n"
     ]
    },
    {
     "name": "stdout",
     "output_type": "stream",
     "text": [
      "your age is 29\n"
     ]
    }
   ],
   "source": [
    "#Program to calculate your age by giving year \n",
    "year = int(input(\"Enter the year you have borned :\"))\n",
    "age = 2024 - year\n",
    "print (\"your age is\", age)\n"
   ]
  },
  {
   "cell_type": "code",
   "execution_count": 48,
   "id": "1145afb9-52d3-4c4d-8ec6-4fa3099ffdbc",
   "metadata": {},
   "outputs": [
    {
     "name": "stdout",
     "output_type": "stream",
     "text": [
      "0xa 0o12 0b1010 273\n"
     ]
    }
   ],
   "source": [
    "#Base Cnversion program converting intiger to base values\n",
    "\n",
    "a = 10\n",
    "m = 0x111 \n",
    "\"\"\" The hexadecimal number 0x111 is calculated as follows:\n",
    "(1 \\times 16^2 + 1 \\times 16^1 + 1 \\times 16^0)\n",
    "(= 1 \\times 256 + 1 \\times 16 + 1 \\times 1)\n",
    "(= 256 + 16 + 1)\n",
    "(= 273)\"\"\"\n",
    "n = hex(a)\n",
    "b = oct(a)\n",
    "c = bin(a)\n",
    "print(n, b, c, m)"
   ]
  },
  {
   "cell_type": "code",
   "execution_count": null,
   "id": "f76875a5-2bd4-4d78-be46-a3f6b10d1f66",
   "metadata": {},
   "outputs": [],
   "source": []
  }
 ],
 "metadata": {
  "kernelspec": {
   "display_name": "Python 3 (ipykernel)",
   "language": "python",
   "name": "python3"
  },
  "language_info": {
   "codemirror_mode": {
    "name": "ipython",
    "version": 3
   },
   "file_extension": ".py",
   "mimetype": "text/x-python",
   "name": "python",
   "nbconvert_exporter": "python",
   "pygments_lexer": "ipython3",
   "version": "3.12.7"
  }
 },
 "nbformat": 4,
 "nbformat_minor": 5
}
