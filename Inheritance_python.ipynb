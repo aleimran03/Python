{
  "nbformat": 4,
  "nbformat_minor": 0,
  "metadata": {
    "colab": {
      "provenance": [],
      "authorship_tag": "ABX9TyPINMLiamjQabISTae8NoIm",
      "include_colab_link": true
    },
    "kernelspec": {
      "name": "python3",
      "display_name": "Python 3"
    },
    "language_info": {
      "name": "python"
    }
  },
  "cells": [
    {
      "cell_type": "markdown",
      "metadata": {
        "id": "view-in-github",
        "colab_type": "text"
      },
      "source": [
        "<a href=\"https://colab.research.google.com/github/muhammedimrans/Python/blob/main/Inheritance_python.ipynb\" target=\"_parent\"><img src=\"https://colab.research.google.com/assets/colab-badge.svg\" alt=\"Open In Colab\"/></a>"
      ]
    },
    {
      "cell_type": "code",
      "execution_count": 7,
      "metadata": {
        "colab": {
          "base_uri": "https://localhost:8080/"
        },
        "id": "ftCW_LnuKkJ-",
        "outputId": "33574252-db84-4ab7-85f8-42af97e7796d"
      },
      "outputs": [
        {
          "output_type": "stream",
          "name": "stdout",
          "text": [
            "German Speherd Goldy is Speaking\n",
            "Persian Aayat is eating\n",
            "Mouse Jerry is Sleeping\n"
          ]
        }
      ],
      "source": [
        "#Inheritance = Allows a class to inherit attributes and methods from another class\n",
        "#            Helps with code usability and extensibility\n",
        "#            Class child(parent)\n",
        "\n",
        "class Animal:\n",
        "  def __init__(self, name, breed):\n",
        "    self.name = name\n",
        "    self.breed = breed\n",
        "    self.is_alive = True\n",
        "\n",
        "  def speak(self):\n",
        "    print(f\"{self.breed} {self.name} is Speaking\")\n",
        "\n",
        "  def eat(self):\n",
        "    print(f\"{self.breed} {self.name} is eating\")\n",
        "\n",
        "  def sleep(self):\n",
        "    print(f\"{self.breed} {self.name} is Sleeping\")\n",
        "\n",
        "class Dog(Animal):  #Inheriting from Animal\n",
        "  pass\n",
        "\n",
        "class Cat(Animal):  #Inheriting from Animals\n",
        "  pass\n",
        "\n",
        "class Mouse(Animal):\n",
        "  pass\n",
        "\n",
        "dog1 = Dog(\"Goldy\", \"German Speherd\")\n",
        "cat1 = Cat(\"Aayat\", \"Persian\")\n",
        "mouse1 = Mouse(\"Jerry\", \"Mouse\")\n",
        "\n",
        "dog1.speak()\n",
        "cat1.eat()\n",
        "mouse1.sleep()\n"
      ]
    }
  ]
}