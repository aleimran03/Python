{
  "nbformat": 4,
  "nbformat_minor": 0,
  "metadata": {
    "colab": {
      "provenance": [],
      "authorship_tag": "ABX9TyNYaYzJ7fRvmTz6hOJ8dORM",
      "include_colab_link": true
    },
    "kernelspec": {
      "name": "python3",
      "display_name": "Python 3"
    },
    "language_info": {
      "name": "python"
    }
  },
  "cells": [
    {
      "cell_type": "markdown",
      "metadata": {
        "id": "view-in-github",
        "colab_type": "text"
      },
      "source": [
        "<a href=\"https://colab.research.google.com/github/muhammedimrans/Python/blob/main/Inheritance_python.ipynb\" target=\"_parent\"><img src=\"https://colab.research.google.com/assets/colab-badge.svg\" alt=\"Open In Colab\"/></a>"
      ]
    },
    {
      "cell_type": "code",
      "execution_count": 7,
      "metadata": {
        "colab": {
          "base_uri": "https://localhost:8080/"
        },
        "id": "ftCW_LnuKkJ-",
        "outputId": "33574252-db84-4ab7-85f8-42af97e7796d"
      },
      "outputs": [
        {
          "output_type": "stream",
          "name": "stdout",
          "text": [
            "German Speherd Goldy is Speaking\n",
            "Persian Aayat is eating\n",
            "Mouse Jerry is Sleeping\n"
          ]
        }
      ],
      "source": [
        "#Inheritance = Allows a class to inherit attributes and methods from another class\n",
        "#            Helps with code usability and extensibility\n",
        "#            Class child(parent)\n",
        "\n",
        "class Animal:\n",
        "  def __init__(self, name, breed):\n",
        "    self.name = name\n",
        "    self.breed = breed\n",
        "    self.is_alive = True\n",
        "\n",
        "  def speak(self):\n",
        "    print(f\"{self.breed} {self.name} is Speaking\")\n",
        "\n",
        "  def eat(self):\n",
        "    print(f\"{self.breed} {self.name} is eating\")\n",
        "\n",
        "  def sleep(self):\n",
        "    print(f\"{self.breed} {self.name} is Sleeping\")\n",
        "\n",
        "class Dog(Animal):  #Inheriting from Animal\n",
        "  pass\n",
        "\n",
        "class Cat(Animal):  #Inheriting from Animals\n",
        "  pass\n",
        "\n",
        "class Mouse(Animal):\n",
        "  pass\n",
        "\n",
        "dog1 = Dog(\"Goldy\", \"German Speherd\")\n",
        "cat1 = Cat(\"Aayat\", \"Persian\")\n",
        "mouse1 = Mouse(\"Jerry\", \"Mouse\")\n",
        "\n",
        "dog1.speak()\n",
        "cat1.eat()\n",
        "mouse1.sleep()\n"
      ]
    },
    {
      "cell_type": "code",
      "source": [
        "#Multiple Inheritance = When a class can be derived from more than one base class\n",
        "#                        Inherits from more than one parent class\n",
        "#                        C (A, B) (C as children, B as Parents and A as Grand Parents)\n",
        "\n",
        "\n",
        "#Multi-Level Inheritance = Inherits from a parent which inherits from another parent\n",
        "#                        C (B) <- B (A) < - A (C as children, B as Parents and A as Grand Parents)\n",
        "\n",
        "class Animal: #Grand Parents\n",
        "\n",
        "  def __init__(self, name):\n",
        "    self.name = name\n",
        "\n",
        "\n",
        "  def eat(self):\n",
        "    print(f\" {self.name} is eating\")\n",
        "\n",
        "  def sleep(self):\n",
        "    print(f\" {self.name} is sleeping\")\n",
        "\n",
        "class Prey(Animal): #Parents\n",
        "  def flee(self):\n",
        "    print(f\" {self.name} is fleeing\")\n",
        "\n",
        "class Predator(Animal): #Parents\n",
        "  def hunt(self):\n",
        "    print(f\" {self.name} is hunting\")\n",
        "\n",
        "class Rabbit(Prey): #children\n",
        "  pass\n",
        "\n",
        "class Hawk(Predator): #children\n",
        "  pass\n",
        "\n",
        "class Fish(Prey, Predator): #children\n",
        "  pass\n",
        "\n",
        "rabbit = Rabbit(\"Bugs\")\n",
        "hawk = Hawk(\"Tony\")\n",
        "fish = Fish(\"Nemo\")\n",
        "\n",
        "hawk.eat()\n",
        "hawk.hunt()\n",
        "print()\n",
        "\n",
        "fish.eat()\n",
        "fish.hunt()\n",
        "print()\n",
        "\n",
        "rabbit.eat()\n",
        "rabbit.flee()\n",
        "print()"
      ],
      "metadata": {
        "colab": {
          "base_uri": "https://localhost:8080/"
        },
        "id": "Xh5YnCMukkaD",
        "outputId": "cbe5aff2-2551-4977-986c-53d9a6c5a7c9"
      },
      "execution_count": 20,
      "outputs": [
        {
          "output_type": "stream",
          "name": "stdout",
          "text": [
            " Tony is eating\n",
            " Tony is hunting\n",
            "\n",
            " Nemo is eating\n",
            " Nemo is hunting\n",
            "\n",
            " Bugs is eating\n",
            " Bugs is fleeing\n",
            "\n"
          ]
        }
      ]
    },
    {
      "cell_type": "code",
      "source": [
        "#super() = Function used in a child class to call methods from a parent class (superclass)\n",
        "#          Allows us to extend the functionality of the inheritance Methods\n",
        "\n",
        "class Shape:\n",
        "  def __init__(self, color, is_filled):\n",
        "    self.color = color\n",
        "    self.is_filled = is_filled\n",
        "\n",
        "  def describe(self):\n",
        "    print(f\"This is a {self.color} color and {'filled' if self.is_filled else 'not filled'}\")\n",
        "\n",
        "\n",
        "class Circle(Shape):\n",
        "  def __init__(self, color, is_filled, radius):\n",
        "    super().__init__(color, is_filled) #Super().__init__  its calling from direct class shape\n",
        "    self.radius = radius\n",
        "\n",
        "  def describe(self):\n",
        "    super().describe()\n",
        "    print(f\"It is a circle with an area of {3.14 * self.radius * self.radius}cm^2\")\n",
        "\n",
        "\n",
        "\n",
        "class Square(Shape):\n",
        "  def __init__(self, color, is_filled, width):\n",
        "    self.width = width\n",
        "    super().__init__(color, is_filled)  #Super().__init__  its calling from direct class shape\n",
        "\n",
        "  def describe(self):\n",
        "    super().describe()\n",
        "    print(f\"It is a square with an area of {self.width * self.width}cm^2\")\n",
        "\n",
        "\n",
        "class Triangle(Shape):\n",
        "  def __init__(self, color, is_filled, width, height):\n",
        "    self.width = width\n",
        "    self.height = height\n",
        "    super().__init__(color, is_filled)\n",
        "\n",
        "  def describe(self):\n",
        "    super().describe()\n",
        "    print(f\"It is a triangle with an area of {0.5 * self.width * self.height}cm^2\")\n",
        "\n",
        "circle = Circle(color=\"red\", is_filled = True, radius=10)\n",
        "square = Square(color=\"blue\", is_filled = False, width=10)\n",
        "triangle = Triangle(color=\"green\", is_filled = False, width=10, height=5)\n",
        "\n",
        "#print(square.color)\n",
        "#print(square.is_filled)\n",
        "#print(square.width)\n",
        "#print()\n",
        "#circle.describe()\n",
        "#square.describe()\n",
        "#triangle.describe()\n",
        "\n",
        "circle.describe()\n",
        "print()\n",
        "square.describe()\n",
        "print()\n",
        "triangle.describe()\n",
        "print()\n"
      ],
      "metadata": {
        "colab": {
          "base_uri": "https://localhost:8080/"
        },
        "id": "uT4BzfiUpy93",
        "outputId": "a4cd085b-6525-44bc-bfd4-fe18de0b64dc"
      },
      "execution_count": 6,
      "outputs": [
        {
          "output_type": "stream",
          "name": "stdout",
          "text": [
            "This is a red color and filled\n",
            "It is a circle with an area of 314.0cm^2\n",
            "\n",
            "This is a blue color and not filled\n",
            "It is a square with an area of 100cm^2\n",
            "\n",
            "This is a green color and not filled\n",
            "It is a triangle with an area of 25.0cm^2\n",
            "\n"
          ]
        }
      ]
    }
  ]
}