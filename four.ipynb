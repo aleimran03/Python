{
 "cells": [
  {
   "cell_type": "code",
   "execution_count": 11,
   "id": "431c67a2-15d1-43cc-af3e-b1086dae595e",
   "metadata": {},
   "outputs": [
    {
     "name": "stdin",
     "output_type": "stream",
     "text": [
      "Please Enter the value of a : 1\n",
      "Please Enter the value of b : 1\n",
      "Please Enter the value of c : 5\n"
     ]
    },
    {
     "name": "stdout",
     "output_type": "stream",
     "text": [
      "Root 1 value is : (-0.5+2.179449471770337j)\n",
      "Root 2 value is : (-0.5-2.179449471770337j)\n"
     ]
    }
   ],
   "source": [
    "#Quadratic equation \n",
    "import cmath #cmath can be used for complex and negative values\n",
    "\n",
    "a = float(input(\"Please Enter the value of a :\"))\n",
    "b = float(input(\"Please Enter the value of b :\"))\n",
    "c = float(input(\"Please Enter the value of c :\"))\n",
    "\n",
    "root1 = (-b + cmath.sqrt(b**2 - 4*a*c)) / (2 * a)\n",
    "root2 = (-b - cmath.sqrt(b**2 - 4*a*c)) / (2 * a)\n",
    "\n",
    "print(\"Root 1 value is :\", root1)\n",
    "print(\"Root 2 value is :\", root2)\n",
    "\n"
   ]
  },
  {
   "cell_type": "code",
   "execution_count": 7,
   "id": "f5d0e283-02d2-4689-98d9-d207d442e4fa",
   "metadata": {},
   "outputs": [
    {
     "name": "stdin",
     "output_type": "stream",
     "text": [
      "Enter the Maths Marks : 25\n",
      "Enter the Physics Marks : 22\n",
      "Enter the Chemistry Marks : 36\n"
     ]
    },
    {
     "name": "stdout",
     "output_type": "stream",
     "text": [
      "You are Failed\n"
     ]
    }
   ],
   "source": [
    "#Passed Or Failed Program\n",
    "\n",
    "math = int(input(\"Enter the Maths Marks :\")) \n",
    "phys = int(input(\"Enter the Physics Marks :\")) \n",
    "chem = int(input(\"Enter the Chemistry Marks :\")) \n",
    "\n",
    "if math >= 45 and phys >= 45 and chem >= 45:\n",
    "    print(\"You are passed in all the subjects\")\n",
    "else:\n",
    "    print(\"You are Failed\")\n"
   ]
  },
  {
   "cell_type": "code",
   "execution_count": 18,
   "id": "a87f6201-ef1e-43cb-a337-3ead94c835ea",
   "metadata": {},
   "outputs": [
    {
     "name": "stdin",
     "output_type": "stream",
     "text": [
      "Enter the username of the person MOhammed\n"
     ]
    },
    {
     "name": "stdout",
     "output_type": "stream",
     "text": [
      "User cannot access the resources\n"
     ]
    }
   ],
   "source": [
    "#Admin Access for john and smith\n",
    "\n",
    "username = str(input(\"Enter the username of the person\"))\n",
    "\n",
    "if username == \"john\" or username == \"smith\":\n",
    "    print(\"User is accessible\")\n",
    "else:\n",
    "    print(\"User cannot access the resources\")\n"
   ]
  },
  {
   "cell_type": "code",
   "execution_count": 23,
   "id": "98ae3ed4-04a4-454f-92bb-c6bbea9a5a9f",
   "metadata": {},
   "outputs": [
    {
     "name": "stdin",
     "output_type": "stream",
     "text": [
      "Enter the lower case letter : a\n"
     ]
    },
    {
     "name": "stdout",
     "output_type": "stream",
     "text": [
      "Entered letter is Vowel\n"
     ]
    }
   ],
   "source": [
    "# checking if letters or voules or constansts\n",
    "\n",
    "ch = input(\"Enter the lower case letter :\")\n",
    "\n",
    "if ch == 'a' or ch == 'e' or ch == 'i' or ch == 'o' or ch == 'u':\n",
    "    print(\"Entered letter is Vowel\")\n",
    "else:\n",
    "    print(\"Enter letter is Constants\")\n",
    "\n"
   ]
  },
  {
   "cell_type": "code",
   "execution_count": null,
   "id": "52d10b41-029a-4214-8257-fc7a24d6ac2b",
   "metadata": {},
   "outputs": [],
   "source": []
  }
 ],
 "metadata": {
  "kernelspec": {
   "display_name": "Python 3 (ipykernel)",
   "language": "python",
   "name": "python3"
  },
  "language_info": {
   "codemirror_mode": {
    "name": "ipython",
    "version": 3
   },
   "file_extension": ".py",
   "mimetype": "text/x-python",
   "name": "python",
   "nbconvert_exporter": "python",
   "pygments_lexer": "ipython3",
   "version": "3.12.7"
  }
 },
 "nbformat": 4,
 "nbformat_minor": 5
}
