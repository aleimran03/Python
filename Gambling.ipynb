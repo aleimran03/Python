{
  "nbformat": 4,
  "nbformat_minor": 0,
  "metadata": {
    "colab": {
      "provenance": [],
      "authorship_tag": "ABX9TyMqPN38tX6MZj9EsMlX5iDx",
      "include_colab_link": true
    },
    "kernelspec": {
      "name": "python3",
      "display_name": "Python 3"
    },
    "language_info": {
      "name": "python"
    }
  },
  "cells": [
    {
      "cell_type": "markdown",
      "metadata": {
        "id": "view-in-github",
        "colab_type": "text"
      },
      "source": [
        "<a href=\"https://colab.research.google.com/github/muhammedimrans/Python/blob/main/Gambling.ipynb\" target=\"_parent\"><img src=\"https://colab.research.google.com/assets/colab-badge.svg\" alt=\"Open In Colab\"/></a>"
      ]
    },
    {
      "cell_type": "code",
      "execution_count": null,
      "metadata": {
        "id": "tjAFq3Q7g7jd"
      },
      "outputs": [],
      "source": [
        "#python slot machine\n",
        "\n",
        "import random\n",
        "\n",
        "def spin_row():\n",
        "      symbols = ['🍒', '🍉',  '🔔', '⭐']\n",
        "\n",
        "      result = [random.choice(symbols) for symbol in range(3)]\n",
        "      return result\n",
        "\n",
        "\n",
        "\n",
        "def print_row(row):\n",
        "  print(\"---------------\")\n",
        "  print(\" | \".join(row))\n",
        "  print(\"---------------\")\n",
        "\n",
        "\n",
        "def get_bet():\n",
        "\tpass\n",
        "\n",
        "def get_payout(row, bet):\n",
        "  if [row] == row[1] == row[2]:\n",
        "    if row[0] == '🍒':\n",
        "      return 5 * bet\n",
        "    elif row[0] == '🍉':\n",
        "      return 10 * bet\n",
        "    elif row[0] == '🔔':\n",
        "      return 25 * bet\n",
        "    elif row[0] == '⭐':\n",
        "      return 50 * bet\n",
        "  else:\n",
        "    return 0\n",
        "\n",
        "def main():\n",
        "    balance = 100\n",
        "\n",
        "    print(\"Welcome to Python Slots\")\n",
        "    print(\"Symbols: 🍒 🍉 🔔 ⭐\")\n",
        "    print(\"-------------------------\")\n",
        "\n",
        "    while balance > 0:\n",
        "        print(f\"your balanvce is {balance}\")\n",
        "\n",
        "        bet = input(\"Enter the amount to bet :\")\n",
        "\n",
        "        if not bet.isdigit():\n",
        "            print(\"Please Enter the valid amount\")\n",
        "            continue\n",
        "        bet = int(bet)\n",
        "\n",
        "        if bet > balance:\n",
        "              print(\"Insufficient Balance\")\n",
        "              continue\n",
        "        if bet <= 0:\n",
        "              print(\"Bet Must be greater than 0\")\n",
        "              continue\n",
        "\n",
        "        row = spin_row()\n",
        "        print(\"Spinning....\\n\")\n",
        "        print_row(row)\n",
        "        balance -= bet\n",
        "\n",
        "        payout = get_payout(row, bet)\n",
        "        if payout > 0:\n",
        "            print(f\"You won ${payout}\")\n",
        "            balance += payout\n",
        "        else:\n",
        "            print(f\"You lost remaining balance is ${balance}\")\n",
        "        balance -= payout\n",
        "\n",
        "        play_again = input(\"Do you want to spin again? (Y/N): \").upper()\n",
        "\n",
        "        if play_again != \"Y\":\n",
        "          break\n",
        "\n",
        "\n",
        "\n",
        "\n",
        "    print(\"*************************\")\n",
        "    print(f\" Current Balance {balance}\")\n",
        "    print(\"Thank you for playing\")\n",
        "    print(\"*************************\")\n",
        "\n",
        "if __name__ == '__main__':\n",
        "    main()"
      ]
    }
  ]
}