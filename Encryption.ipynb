{
  "nbformat": 4,
  "nbformat_minor": 0,
  "metadata": {
    "colab": {
      "provenance": [],
      "authorship_tag": "ABX9TyPbz92Ig1/+DZ2o8/tmDL6w",
      "include_colab_link": true
    },
    "kernelspec": {
      "name": "python3",
      "display_name": "Python 3"
    },
    "language_info": {
      "name": "python"
    }
  },
  "cells": [
    {
      "cell_type": "markdown",
      "metadata": {
        "id": "view-in-github",
        "colab_type": "text"
      },
      "source": [
        "<a href=\"https://colab.research.google.com/github/muhammedimrans/Python/blob/main/Encryption.ipynb\" target=\"_parent\"><img src=\"https://colab.research.google.com/assets/colab-badge.svg\" alt=\"Open In Colab\"/></a>"
      ]
    },
    {
      "cell_type": "code",
      "execution_count": 1,
      "metadata": {
        "colab": {
          "base_uri": "https://localhost:8080/"
        },
        "id": "hB1rRul97LsP",
        "outputId": "c06cd9bc-c497-4a5a-f044-9a1e3e59f921"
      },
      "outputs": [
        {
          "output_type": "stream",
          "name": "stdout",
          "text": [
            "Enter the text to encrypt: Mohammed Imran\n",
            "Original text is: Mohammed Imran\n",
            "Encrypted text is: lY(QaaxpctavQF\n",
            "Enter the text to Decrypt: lY(QaaxpctavQF\n",
            "Encrypted text is: lY(QaaxpctavQF\n",
            "Original text is: Mohammed Imran\n"
          ]
        }
      ],
      "source": [
        "import random\n",
        "import string\n",
        "\n",
        "chars = string.punctuation + string.digits + string.ascii_letters + \" \"\n",
        "\n",
        "chars = list(chars)\n",
        "key = chars.copy()\n",
        "\n",
        "random.shuffle(key)\n",
        "\n",
        "# Encryption\n",
        "\n",
        "plain_text = input(\"Enter the text to encrypt: \")\n",
        "cipher_text = \"\"\n",
        "\n",
        "for char in plain_text:\n",
        "    index = chars.index(char)\n",
        "    cipher_text += key[index]\n",
        "\n",
        "print(f\"Original text is: {plain_text}\")\n",
        "print(f\"Encrypted text is: {cipher_text}\")\n",
        "\n",
        "# Decryption\n",
        "\n",
        "cipher_text = input(\"Enter the text to Decrypt: \")\n",
        "plain_text = \"\"\n",
        "\n",
        "for char in cipher_text:\n",
        "    index = key.index(char)  # Find the index of the character in the key\n",
        "    plain_text += chars[index]  # Use the index to retrieve the original character from chars\n",
        "\n",
        "print(f\"Encrypted text is: {cipher_text}\")\n",
        "print(f\"Original text is: {plain_text}\")"
      ]
    }
  ]
}