{
  "nbformat": 4,
  "nbformat_minor": 0,
  "metadata": {
    "colab": {
      "provenance": [],
      "authorship_tag": "ABX9TyMkvI1BDQve7IUm4MDVplzj",
      "include_colab_link": true
    },
    "kernelspec": {
      "name": "python3",
      "display_name": "Python 3"
    },
    "language_info": {
      "name": "python"
    }
  },
  "cells": [
    {
      "cell_type": "markdown",
      "metadata": {
        "id": "view-in-github",
        "colab_type": "text"
      },
      "source": [
        "<a href=\"https://colab.research.google.com/github/muhammedimrans/Python/blob/main/python_OOP.ipynb\" target=\"_parent\"><img src=\"https://colab.research.google.com/assets/colab-badge.svg\" alt=\"Open In Colab\"/></a>"
      ]
    },
    {
      "cell_type": "code",
      "execution_count": 13,
      "metadata": {
        "colab": {
          "base_uri": "https://localhost:8080/"
        },
        "id": "J0hkf88izNWn",
        "outputId": "fe301976-bb98-4fb2-bfa6-1e2159ed6783"
      },
      "outputs": [
        {
          "output_type": "stream",
          "name": "stdout",
          "text": [
            "You drive the red Mustang \n",
            "You stopped the red Mustang \n",
            "This is a red Mustang from 2024\n",
            "\n",
            "You drive the Orange Bukati \n",
            "You stopped the Orange Bukati \n",
            "This is a Orange Bukati from 2025\n",
            "\n",
            "You drive the yellow Charger \n",
            "You stopped the yellow Charger \n",
            "This is a yellow Charger from 2025\n"
          ]
        }
      ],
      "source": [
        "#Object = A \"bundle\" of related attributes (variables) and methods (functions)\n",
        "#          Ex. phone, cup, book\n",
        "#          you need a \"class\" to create many objects\n",
        "#class = (bluerint) used to design the structure and layout of an object\n",
        "# we can place the class in another python file and import the Car\n",
        "\n",
        "#methods are action that the objects can perform\n",
        "\n",
        "class Car:\n",
        "  def __init__(self, model, year, color, for_sale):\n",
        "  # we need this method to def __init__(self) constructor method we need this to construct an object (dunder = double underscore)\n",
        "  # Self means this objects we are creating it now\n",
        "  #self.model, year, color are attributes #methods are functioned that belongs to objects like drive(), stop(), describe()\n",
        "    self.model = model\n",
        "    self.year = year\n",
        "    self.color = color\n",
        "    self.for_sale = for_sale\n",
        "\n",
        "  def drive(self):\n",
        "    print(f\"You drive the {self.color} {self.model} \")\n",
        "\n",
        "  def stop(self):\n",
        "    print(f\"You stopped the {self.color} {self.model} \")\n",
        "\n",
        "  def describe(self):\n",
        "    print(f\"This is a {self.color} {self.model} from {self.year}\")\n",
        "\n",
        "car1 = Car(\"Mustang\", 2024, \"red\", False)\n",
        "car2 = Car(\"Bukati\", 2025, \"Orange\", False)\n",
        "car3 = Car(\"Charger\", 2025, \"yellow\", True)\n",
        "#print(car1) #we will get teh memory object\n",
        "\n",
        "#print(car2.model)\n",
        "#print(car2.year)\n",
        "#print(car2.color)\n",
        "#print(car2.for_sale)\n",
        "\n",
        "car1.drive()\n",
        "car1.stop()\n",
        "car1.describe()\n",
        "print()\n",
        "\n",
        "car2.drive()\n",
        "car2.stop()\n",
        "car2.describe()\n",
        "print()\n",
        "\n",
        "car3.drive()\n",
        "car3.stop()\n",
        "car3.describe()"
      ]
    }
  ]
}